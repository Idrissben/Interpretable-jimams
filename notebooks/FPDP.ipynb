{
 "cells": [
  {
   "cell_type": "code",
   "execution_count": 1,
   "metadata": {},
   "outputs": [],
   "source": [
    "import pickle\n",
    "from sklearn.model_selection import train_test_split\n",
    "import pandas as pd\n",
    "from scipy.stats import chi2_contingency"
   ]
  },
  {
   "cell_type": "markdown",
   "metadata": {},
   "source": [
    "## Import data and model"
   ]
  },
  {
   "cell_type": "code",
   "execution_count": 7,
   "metadata": {},
   "outputs": [],
   "source": [
    "raw_data = pd.read_csv(\"../data/data_clean.csv\")\n",
    "data = raw_data[raw_data['birth date'] < 2020].copy()\n",
    "\n",
    "data['age'] = data['parole board interview date'] - data['birth date']\n",
    "data['jail duration'] = data['parole board interview date'] - data['year of entry']\n",
    "\n",
    "others_parole_type =  ['PIE', 'SP CONSDR', 'ECPDO', 'MEDICAL','RESCISSION', 'DEPORT']\n",
    "data['parole board interview type'] = data['parole board interview type'].replace(others_parole_type, 'OTHERS').replace('SUPP MERIT', 'MERIT TIME').replace('PV REAPP', 'REAPPEAR')\n",
    "\n",
    "data = data.dropna(axis=0, subset=['crime 1 - class', 'parole eligibility date'])\n",
    "\n",
    "df_one_hot = pd.get_dummies(data, columns=[\n",
    "    \"sex\", \"race / ethnicity\"], drop_first=True)\n",
    "\n",
    "df_one_hot = pd.get_dummies(df_one_hot, columns=[\n",
    "    \"crime 1 - class\", \"crime 2 - class\",\n",
    "    \"crime 3 - class\", \"crime 4 - class\",\n",
    "    \"parole board interview type\"])\n",
    "\n",
    "df_one_hot.drop(columns=['release date','birth date', 'year of entry'],inplace=True)\n",
    "\n",
    "X_train, X_test, y_train, y_test = train_test_split(df_one_hot.drop('y',axis=1), df_one_hot['y'], \n",
    "                                                    stratify=df_one_hot['y'], test_size=0.3, random_state=42)"
   ]
  },
  {
   "cell_type": "code",
   "execution_count": 4,
   "metadata": {},
   "outputs": [],
   "source": [
    "# Load the model from the .pkl file\n",
    "xgb_classifier = pickle.load(open(\"../model.pkl\", \"rb\"))"
   ]
  },
  {
   "cell_type": "code",
   "execution_count": 8,
   "metadata": {},
   "outputs": [],
   "source": [
    "data_train, _, _, _ = train_test_split(data.drop('y',axis=1), data['y'],\n",
    "                                                    stratify=data['y'], test_size=0.3, random_state=42)"
   ]
  },
  {
   "cell_type": "markdown",
   "metadata": {},
   "source": [
    "## FPDP"
   ]
  },
  {
   "cell_type": "markdown",
   "metadata": {},
   "source": [
    "### Feature Sex"
   ]
  },
  {
   "cell_type": "code",
   "execution_count": 9,
   "metadata": {},
   "outputs": [
    {
     "data": {
      "text/html": [
       "<div>\n",
       "<style scoped>\n",
       "    .dataframe tbody tr th:only-of-type {\n",
       "        vertical-align: middle;\n",
       "    }\n",
       "\n",
       "    .dataframe tbody tr th {\n",
       "        vertical-align: top;\n",
       "    }\n",
       "\n",
       "    .dataframe thead th {\n",
       "        text-align: right;\n",
       "    }\n",
       "</style>\n",
       "<table border=\"1\" class=\"dataframe\">\n",
       "  <thead>\n",
       "    <tr style=\"text-align: right;\">\n",
       "      <th></th>\n",
       "      <th>parole board interview date</th>\n",
       "      <th>parole eligibility date</th>\n",
       "      <th>min_sentence</th>\n",
       "      <th>max_sentence</th>\n",
       "      <th>count of crimes</th>\n",
       "      <th>age</th>\n",
       "      <th>jail duration</th>\n",
       "      <th>sex_MALE</th>\n",
       "      <th>race / ethnicity_ASIAN/PACIFIC</th>\n",
       "      <th>race / ethnicity_BLACK</th>\n",
       "      <th>...</th>\n",
       "      <th>crime 3 - class_E</th>\n",
       "      <th>crime 4 - class_A</th>\n",
       "      <th>crime 4 - class_B</th>\n",
       "      <th>crime 4 - class_C</th>\n",
       "      <th>crime 4 - class_D</th>\n",
       "      <th>crime 4 - class_E</th>\n",
       "      <th>parole board interview type_INITIAL</th>\n",
       "      <th>parole board interview type_MERIT TIME</th>\n",
       "      <th>parole board interview type_OTHERS</th>\n",
       "      <th>parole board interview type_REAPPEAR</th>\n",
       "    </tr>\n",
       "  </thead>\n",
       "  <tbody>\n",
       "    <tr>\n",
       "      <th>22045</th>\n",
       "      <td>2015</td>\n",
       "      <td>2015.0</td>\n",
       "      <td>1.0</td>\n",
       "      <td>3.0</td>\n",
       "      <td>1</td>\n",
       "      <td>58.0</td>\n",
       "      <td>1</td>\n",
       "      <td>True</td>\n",
       "      <td>False</td>\n",
       "      <td>False</td>\n",
       "      <td>...</td>\n",
       "      <td>False</td>\n",
       "      <td>False</td>\n",
       "      <td>False</td>\n",
       "      <td>False</td>\n",
       "      <td>False</td>\n",
       "      <td>False</td>\n",
       "      <td>True</td>\n",
       "      <td>False</td>\n",
       "      <td>False</td>\n",
       "      <td>False</td>\n",
       "    </tr>\n",
       "    <tr>\n",
       "      <th>12484</th>\n",
       "      <td>2013</td>\n",
       "      <td>2014.0</td>\n",
       "      <td>4.0</td>\n",
       "      <td>4.0</td>\n",
       "      <td>1</td>\n",
       "      <td>37.0</td>\n",
       "      <td>0</td>\n",
       "      <td>True</td>\n",
       "      <td>False</td>\n",
       "      <td>False</td>\n",
       "      <td>...</td>\n",
       "      <td>False</td>\n",
       "      <td>False</td>\n",
       "      <td>False</td>\n",
       "      <td>False</td>\n",
       "      <td>False</td>\n",
       "      <td>False</td>\n",
       "      <td>False</td>\n",
       "      <td>True</td>\n",
       "      <td>False</td>\n",
       "      <td>False</td>\n",
       "    </tr>\n",
       "    <tr>\n",
       "      <th>20431</th>\n",
       "      <td>2014</td>\n",
       "      <td>2015.0</td>\n",
       "      <td>4.0</td>\n",
       "      <td>4.0</td>\n",
       "      <td>1</td>\n",
       "      <td>42.0</td>\n",
       "      <td>0</td>\n",
       "      <td>True</td>\n",
       "      <td>False</td>\n",
       "      <td>False</td>\n",
       "      <td>...</td>\n",
       "      <td>False</td>\n",
       "      <td>False</td>\n",
       "      <td>False</td>\n",
       "      <td>False</td>\n",
       "      <td>False</td>\n",
       "      <td>False</td>\n",
       "      <td>True</td>\n",
       "      <td>False</td>\n",
       "      <td>False</td>\n",
       "      <td>False</td>\n",
       "    </tr>\n",
       "    <tr>\n",
       "      <th>9179</th>\n",
       "      <td>2013</td>\n",
       "      <td>2011.0</td>\n",
       "      <td>25.0</td>\n",
       "      <td>50.0</td>\n",
       "      <td>4</td>\n",
       "      <td>51.0</td>\n",
       "      <td>24</td>\n",
       "      <td>True</td>\n",
       "      <td>False</td>\n",
       "      <td>False</td>\n",
       "      <td>...</td>\n",
       "      <td>True</td>\n",
       "      <td>False</td>\n",
       "      <td>True</td>\n",
       "      <td>False</td>\n",
       "      <td>False</td>\n",
       "      <td>False</td>\n",
       "      <td>False</td>\n",
       "      <td>False</td>\n",
       "      <td>False</td>\n",
       "      <td>True</td>\n",
       "    </tr>\n",
       "    <tr>\n",
       "      <th>6694</th>\n",
       "      <td>2013</td>\n",
       "      <td>2013.0</td>\n",
       "      <td>10.0</td>\n",
       "      <td>8.0</td>\n",
       "      <td>1</td>\n",
       "      <td>62.0</td>\n",
       "      <td>6</td>\n",
       "      <td>True</td>\n",
       "      <td>False</td>\n",
       "      <td>True</td>\n",
       "      <td>...</td>\n",
       "      <td>False</td>\n",
       "      <td>False</td>\n",
       "      <td>False</td>\n",
       "      <td>False</td>\n",
       "      <td>False</td>\n",
       "      <td>False</td>\n",
       "      <td>True</td>\n",
       "      <td>False</td>\n",
       "      <td>False</td>\n",
       "      <td>False</td>\n",
       "    </tr>\n",
       "  </tbody>\n",
       "</table>\n",
       "<p>5 rows × 38 columns</p>\n",
       "</div>"
      ],
      "text/plain": [
       "       parole board interview date  parole eligibility date  min_sentence  \\\n",
       "22045                         2015                   2015.0           1.0   \n",
       "12484                         2013                   2014.0           4.0   \n",
       "20431                         2014                   2015.0           4.0   \n",
       "9179                          2013                   2011.0          25.0   \n",
       "6694                          2013                   2013.0          10.0   \n",
       "\n",
       "       max_sentence  count of crimes   age  jail duration  sex_MALE  \\\n",
       "22045           3.0                1  58.0              1      True   \n",
       "12484           4.0                1  37.0              0      True   \n",
       "20431           4.0                1  42.0              0      True   \n",
       "9179           50.0                4  51.0             24      True   \n",
       "6694            8.0                1  62.0              6      True   \n",
       "\n",
       "       race / ethnicity_ASIAN/PACIFIC  race / ethnicity_BLACK  ...  \\\n",
       "22045                           False                   False  ...   \n",
       "12484                           False                   False  ...   \n",
       "20431                           False                   False  ...   \n",
       "9179                            False                   False  ...   \n",
       "6694                            False                    True  ...   \n",
       "\n",
       "       crime 3 - class_E  crime 4 - class_A  crime 4 - class_B  \\\n",
       "22045              False              False              False   \n",
       "12484              False              False              False   \n",
       "20431              False              False              False   \n",
       "9179                True              False               True   \n",
       "6694               False              False              False   \n",
       "\n",
       "       crime 4 - class_C  crime 4 - class_D  crime 4 - class_E  \\\n",
       "22045              False              False              False   \n",
       "12484              False              False              False   \n",
       "20431              False              False              False   \n",
       "9179               False              False              False   \n",
       "6694               False              False              False   \n",
       "\n",
       "       parole board interview type_INITIAL  \\\n",
       "22045                                 True   \n",
       "12484                                False   \n",
       "20431                                 True   \n",
       "9179                                 False   \n",
       "6694                                  True   \n",
       "\n",
       "       parole board interview type_MERIT TIME  \\\n",
       "22045                                   False   \n",
       "12484                                    True   \n",
       "20431                                   False   \n",
       "9179                                    False   \n",
       "6694                                    False   \n",
       "\n",
       "       parole board interview type_OTHERS  \\\n",
       "22045                               False   \n",
       "12484                               False   \n",
       "20431                               False   \n",
       "9179                                False   \n",
       "6694                                False   \n",
       "\n",
       "       parole board interview type_REAPPEAR  \n",
       "22045                                 False  \n",
       "12484                                 False  \n",
       "20431                                 False  \n",
       "9179                                   True  \n",
       "6694                                  False  \n",
       "\n",
       "[5 rows x 38 columns]"
      ]
     },
     "execution_count": 9,
     "metadata": {},
     "output_type": "execute_result"
    }
   ],
   "source": [
    "X_train.head()"
   ]
  },
  {
   "cell_type": "code",
   "execution_count": 13,
   "metadata": {},
   "outputs": [
    {
     "data": {
      "text/plain": [
       "array([ True, False])"
      ]
     },
     "execution_count": 13,
     "metadata": {},
     "output_type": "execute_result"
    }
   ],
   "source": [
    "X_train['sex_MALE'].unique()"
   ]
  },
  {
   "cell_type": "code",
   "execution_count": 36,
   "metadata": {},
   "outputs": [
    {
     "name": "stdout",
     "output_type": "stream",
     "text": [
      "col_0         0     1\n",
      "sex_MALE             \n",
      "True      12579  8530\n",
      "Chi-square value: 0.0\n",
      "P-value: 1.0\n"
     ]
    }
   ],
   "source": [
    "# Set 'True' for all instances\n",
    "X_train_true = X_train.copy()\n",
    "X_train_true['sex_MALE'] = True\n",
    "\n",
    "# Create a contingency table\n",
    "contingency_table = pd.crosstab(X_train_true['sex_MALE'], xgb_classifier.predict(X_train_true))\n",
    "print(contingency_table)\n",
    "\n",
    "# Perform the chi-square test\n",
    "chi2, p, a, b = chi2_contingency(contingency_table)\n",
    "print(f\"Chi-square value: {chi2}\")\n",
    "print(f\"P-value: {p}\")"
   ]
  },
  {
   "cell_type": "code",
   "execution_count": 26,
   "metadata": {},
   "outputs": [
    {
     "name": "stdout",
     "output_type": "stream",
     "text": [
      "col_0        0      1\n",
      "sex_MALE             \n",
      "False      199   1167\n",
      "True      7029  12714\n",
      "Chi-square value: 250.11268086767475\n",
      "P-value: 2.4539982933323717e-56\n"
     ]
    }
   ],
   "source": [
    "# Set 'False' for all instances\n",
    "X_train_false = X_train.copy()\n",
    "X_train_false['sex_MALE'] = False\n",
    "\n",
    "# Create a contingency table\n",
    "contingency_table = pd.crosstab(X_train['sex_MALE'], xgb_classifier.predict(X_train_false))\n",
    "print(contingency_table)\n",
    "\n",
    "# Perform the chi-square test\n",
    "chi2, p, a, b = chi2_contingency(contingency_table)\n",
    "print(f\"Chi-square value: {chi2}\")\n",
    "print(f\"P-value: {p}\")"
   ]
  },
  {
   "cell_type": "markdown",
   "metadata": {},
   "source": [
    "#### Feature Age"
   ]
  },
  {
   "cell_type": "code",
   "execution_count": 28,
   "metadata": {},
   "outputs": [
    {
     "name": "stdout",
     "output_type": "stream",
     "text": [
      "Chi-square value: 629.662595144586\n",
      "P-value: 1.6336405480366143e-89\n"
     ]
    }
   ],
   "source": [
    "X_train_age_1 = X_train.copy()\n",
    "X_train_age_1['age'] = 20\n",
    "\n",
    "contingency_table = pd.crosstab(X_train['age'], xgb_classifier.predict(X_train_age_1))\n",
    "\n",
    "# Perform the chi-square test\n",
    "chi2, p, a, b = chi2_contingency(contingency_table)\n",
    "print(f\"Chi-square value: {chi2}\")\n",
    "print(f\"P-value: {p}\")"
   ]
  },
  {
   "cell_type": "code",
   "execution_count": 29,
   "metadata": {},
   "outputs": [
    {
     "name": "stdout",
     "output_type": "stream",
     "text": [
      "Chi-square value: 523.8284017912417\n",
      "P-value: 2.3379528220323925e-69\n"
     ]
    }
   ],
   "source": [
    "X_train_age_2 = X_train.copy()\n",
    "X_train_age_2['age'] = 30\n",
    "\n",
    "contingency_table = pd.crosstab(X_train['age'], xgb_classifier.predict(X_train_age_2))\n",
    "\n",
    "# Perform the chi-square test\n",
    "chi2, p, a, b = chi2_contingency(contingency_table)\n",
    "print(f\"Chi-square value: {chi2}\")\n",
    "print(f\"P-value: {p}\")"
   ]
  },
  {
   "cell_type": "code",
   "execution_count": 35,
   "metadata": {},
   "outputs": [
    {
     "name": "stdout",
     "output_type": "stream",
     "text": [
      "Chi-square value: 523.8284017912417\n",
      "P-value: 2.3379528220323925e-69\n"
     ]
    }
   ],
   "source": [
    "X_train_age_2 = X_train.copy()\n",
    "X_train_age_2['age'] = 30\n",
    "\n",
    "contingency_table = pd.crosstab(X_train['age'], xgb_classifier.predict(X_train_age_2))\n",
    "\n",
    "# Perform the chi-square test\n",
    "chi2, p, a, b = chi2_contingency(contingency_table)\n",
    "print(f\"Chi-square value: {chi2}\")\n",
    "print(f\"P-value: {p}\")"
   ]
  }
 ],
 "metadata": {
  "kernelspec": {
   "display_name": "fairness_project",
   "language": "python",
   "name": "python3"
  },
  "language_info": {
   "codemirror_mode": {
    "name": "ipython",
    "version": 3
   },
   "file_extension": ".py",
   "mimetype": "text/x-python",
   "name": "python",
   "nbconvert_exporter": "python",
   "pygments_lexer": "ipython3",
   "version": "3.11.5"
  }
 },
 "nbformat": 4,
 "nbformat_minor": 2
}
