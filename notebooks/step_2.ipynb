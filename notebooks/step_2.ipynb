{
 "cells": [
  {
   "cell_type": "code",
   "execution_count": 1,
   "metadata": {},
   "outputs": [
    {
     "name": "stdout",
     "output_type": "stream",
     "text": [
      "c:\\Users\\Joseph Moussa\\Desktop\\X\\4A\\Algorithm fairness and interpretability\\Interpretable-jimams\n"
     ]
    }
   ],
   "source": [
    "%cd ..\n",
    "from src import data_utils, model_utils\n",
    "import pandas as pd\n",
    "from xgboost import XGBClassifier\n",
    "import numpy as np"
   ]
  },
  {
   "cell_type": "markdown",
   "metadata": {},
   "source": [
    "### Data Preprocessing"
   ]
  },
  {
   "cell_type": "code",
   "execution_count": 2,
   "metadata": {},
   "outputs": [],
   "source": [
    "raw_data = pd.read_csv(\"data/data_clean.csv\")\n",
    "df_one_hot = data_utils.preprocess_data(raw_data)\n",
    "X, y = df_one_hot.drop('y', axis=1), df_one_hot['y']\n",
    "X_train, X_test, y_train, y_test = data_utils.split_data(X, y)"
   ]
  },
  {
   "cell_type": "markdown",
   "metadata": {},
   "source": [
    "### Dummy Classifier"
   ]
  },
  {
   "cell_type": "code",
   "execution_count": 3,
   "metadata": {},
   "outputs": [
    {
     "name": "stdout",
     "output_type": "stream",
     "text": [
      "Training Metrics:\n",
      "Accuracy: 0.80\n",
      "Balanced Accuracy: 0.50\n",
      "ROC AUC: 0.50\n",
      "F1 Score: 0.00\n",
      "\n",
      "Test Metrics:\n",
      "Accuracy: 0.80\n",
      "Balanced Accuracy: 0.50\n",
      "ROC AUC: 0.50\n",
      "F1 Score: 0.00\n"
     ]
    }
   ],
   "source": [
    "dummy_classifier = model_utils.fit_dummy_classifier(X_train, y_train)\n",
    "\n",
    "train_accuracy, train_balanced_accuracy, train_roc_auc, train_f1 = model_utils.evaluate_model(dummy_classifier, X_train, y_train)\n",
    "test_accuracy, test_balanced_accuracy, test_roc_auc, test_f1 = model_utils.evaluate_model(dummy_classifier, X_test, y_test)\n",
    "\n",
    "print(\"Training Metrics:\")\n",
    "print(f\"Accuracy: {train_accuracy:.2f}\")\n",
    "print(f\"Balanced Accuracy: {train_balanced_accuracy:.2f}\")\n",
    "print(f\"ROC AUC: {train_roc_auc:.2f}\")\n",
    "print(f\"F1 Score: {train_f1:.2f}\")\n",
    "print(\"\\nTest Metrics:\")\n",
    "print(f\"Accuracy: {test_accuracy:.2f}\")\n",
    "print(f\"Balanced Accuracy: {test_balanced_accuracy:.2f}\")\n",
    "print(f\"ROC AUC: {test_roc_auc:.2f}\")\n",
    "print(f\"F1 Score: {test_f1:.2f}\")"
   ]
  },
  {
   "cell_type": "markdown",
   "metadata": {},
   "source": [
    "### XGBoost"
   ]
  },
  {
   "cell_type": "code",
   "execution_count": 4,
   "metadata": {},
   "outputs": [
    {
     "name": "stdout",
     "output_type": "stream",
     "text": [
      "Training Metrics:\n",
      "Accuracy: 0.69\n",
      "Balanced Accuracy: 0.71\n",
      "ROC AUC: 0.71\n",
      "F1 Score: 0.49\n",
      "\n",
      "Test Metrics:\n",
      "Accuracy: 0.67\n",
      "Balanced Accuracy: 0.69\n",
      "ROC AUC: 0.69\n",
      "F1 Score: 0.47\n"
     ]
    }
   ],
   "source": [
    "param_grid = {\n",
    "    'n_estimators': [500, 1000],\n",
    "    'max_depth': [3, 5],\n",
    "    'learning_rate': [1e-2, 0.1]\n",
    "}\n",
    "class_weights = len(y_train) / (2 * np.bincount(y_train))\n",
    "\n",
    "xgb_classifier = XGBClassifier(\n",
    "    objective='binary:logistic',\n",
    "    scale_pos_weight=class_weights[1] / class_weights[0],\n",
    "    random_state=42\n",
    ")\n",
    "\n",
    "xgb_classifier = model_utils.grid_search(estimator=xgb_classifier, X_train=X_train, y_train=y_train, param_grid=param_grid, cv=5, scoring='f1')\n",
    "\n",
    "train_accuracy, train_balanced_accuracy, train_roc_auc, train_f1 = model_utils.evaluate_model(xgb_classifier, X_train, y_train)\n",
    "test_accuracy, test_balanced_accuracy, test_roc_auc, test_f1 = model_utils.evaluate_model(xgb_classifier, X_test, y_test)\n",
    "\n",
    "print(\"Training Metrics:\")\n",
    "print(f\"Accuracy: {train_accuracy:.2f}\")\n",
    "print(f\"Balanced Accuracy: {train_balanced_accuracy:.2f}\")\n",
    "print(f\"ROC AUC: {train_roc_auc:.2f}\")\n",
    "print(f\"F1 Score: {train_f1:.2f}\")\n",
    "print(\"\\nTest Metrics:\")\n",
    "print(f\"Accuracy: {test_accuracy:.2f}\")\n",
    "print(f\"Balanced Accuracy: {test_balanced_accuracy:.2f}\")\n",
    "print(f\"ROC AUC: {test_roc_auc:.2f}\")\n",
    "print(f\"F1 Score: {test_f1:.2f}\")"
   ]
  },
  {
   "cell_type": "markdown",
   "metadata": {},
   "source": [
    "### Save Model"
   ]
  },
  {
   "cell_type": "code",
   "execution_count": null,
   "metadata": {},
   "outputs": [],
   "source": [
    "model_utils.save_model('model/model.pkl')"
   ]
  }
 ],
 "metadata": {
  "kernelspec": {
   "display_name": "base",
   "language": "python",
   "name": "python3"
  },
  "language_info": {
   "codemirror_mode": {
    "name": "ipython",
    "version": 3
   },
   "file_extension": ".py",
   "mimetype": "text/x-python",
   "name": "python",
   "nbconvert_exporter": "python",
   "pygments_lexer": "ipython3",
   "version": "3.8.8"
  }
 },
 "nbformat": 4,
 "nbformat_minor": 2
}
