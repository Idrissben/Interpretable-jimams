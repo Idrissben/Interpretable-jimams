{
 "cells": [
  {
   "cell_type": "code",
   "execution_count": 9,
   "metadata": {},
   "outputs": [],
   "source": [
    "import pickle\n",
    "from sklearn.model_selection import train_test_split\n",
    "import pandas as pd\n",
    "from sklearn.tree import DecisionTreeClassifier\n",
    "from sklearn.metrics import classification_report\n",
    "from sklearn.tree import plot_tree\n",
    "from sklearn.metrics import accuracy_score, balanced_accuracy_score, roc_auc_score, f1_score"
   ]
  },
  {
   "cell_type": "markdown",
   "metadata": {},
   "source": [
    "### Preprocessing"
   ]
  },
  {
   "cell_type": "code",
   "execution_count": 2,
   "metadata": {},
   "outputs": [],
   "source": [
    "raw_data = pd.read_csv(\"../../data_clean.csv\")\n",
    "data = raw_data[raw_data['birth date'] < 2020].copy()\n",
    "\n",
    "data['age'] = data['parole board interview date'] - data['birth date']\n",
    "data['jail duration'] = data['parole board interview date'] - data['year of entry']\n",
    "\n",
    "others_parole_type =  ['PIE', 'SP CONSDR', 'ECPDO', 'MEDICAL','RESCISSION', 'DEPORT']\n",
    "data['parole board interview type'] = data['parole board interview type'].replace(others_parole_type, 'OTHERS').replace('SUPP MERIT', 'MERIT TIME').replace('PV REAPP', 'REAPPEAR')\n",
    "\n",
    "data = data.dropna(axis=0, subset=['crime 1 - class', 'parole eligibility date'])\n",
    "\n",
    "df_one_hot = pd.get_dummies(data, columns=[\n",
    "    \"sex\", \"race / ethnicity\"], drop_first=True)\n",
    "\n",
    "df_one_hot = pd.get_dummies(df_one_hot, columns=[\n",
    "    \"crime 1 - class\", \"crime 2 - class\",\n",
    "    \"crime 3 - class\", \"crime 4 - class\",\n",
    "    \"parole board interview type\"])\n",
    "\n",
    "df_one_hot.drop(columns=['release date','birth date', 'year of entry'],inplace=True)\n",
    "\n",
    "X_train, X_test, y_train, y_test = train_test_split(df_one_hot.drop('y',axis=1), df_one_hot['y'], \n",
    "                                                    stratify=df_one_hot['y'], test_size=0.3, random_state=42)"
   ]
  },
  {
   "cell_type": "markdown",
   "metadata": {},
   "source": [
    "### Loading black box model"
   ]
  },
  {
   "cell_type": "code",
   "execution_count": 3,
   "metadata": {},
   "outputs": [],
   "source": [
    "# Load the model from the .pkl file\n",
    "xgb_classifier = pickle.load(open(\"../model.pkl\", \"rb\"))"
   ]
  },
  {
   "cell_type": "code",
   "execution_count": 4,
   "metadata": {},
   "outputs": [
    {
     "data": {
      "text/plain": [
       "XGBClassifier(base_score=None, booster=None, callbacks=None,\n",
       "              colsample_bylevel=None, colsample_bynode=None,\n",
       "              colsample_bytree=None, device=None, early_stopping_rounds=None,\n",
       "              enable_categorical=False, eval_metric=None, feature_types=None,\n",
       "              gamma=None, grow_policy=None, importance_type=None,\n",
       "              interaction_constraints=None, learning_rate=0.1, max_bin=None,\n",
       "              max_cat_threshold=None, max_cat_to_onehot=None,\n",
       "              max_delta_step=None, max_depth=3, max_leaves=None,\n",
       "              min_child_weight=None, missing=nan, monotone_constraints=None,\n",
       "              multi_strategy=None, n_estimators=500, n_jobs=None,\n",
       "              num_parallel_tree=None, random_state=42, ...)"
      ]
     },
     "execution_count": 4,
     "metadata": {},
     "output_type": "execute_result"
    }
   ],
   "source": [
    "xgb_classifier"
   ]
  },
  {
   "cell_type": "markdown",
   "metadata": {},
   "source": [
    "### Predicting on the training dataset"
   ]
  },
  {
   "cell_type": "code",
   "execution_count": 5,
   "metadata": {},
   "outputs": [],
   "source": [
    "blackbox_predictions = xgb_classifier.predict(X_train)"
   ]
  },
  {
   "cell_type": "markdown",
   "metadata": {},
   "source": [
    "### Surrogate model"
   ]
  },
  {
   "cell_type": "code",
   "execution_count": 7,
   "metadata": {},
   "outputs": [],
   "source": [
    "dt_classifier = DecisionTreeClassifier(max_depth=3)\n",
    "dt_classifier.fit(X_train, blackbox_predictions)\n",
    "\n",
    "dt_predictions = dt_classifier.predict(X_train)"
   ]
  },
  {
   "cell_type": "code",
   "execution_count": 11,
   "metadata": {},
   "outputs": [
    {
     "name": "stdout",
     "output_type": "stream",
     "text": [
      "How capable is the surrogate model when it comes to predicting the outputs of the black box model?\n",
      "Accuracy: 0.84\n",
      "ROC AUC: 0.84\n",
      "F1 Score: 0.81\n"
     ]
    }
   ],
   "source": [
    "# Calculate evaluation metrics\n",
    "train_accuracy = accuracy_score(blackbox_predictions, dt_predictions)\n",
    "train_roc_auc = roc_auc_score(blackbox_predictions, dt_predictions)\n",
    "train_f1 = f1_score(blackbox_predictions, dt_predictions)\n",
    "\n",
    "# Print the evaluation metrics\n",
    "print(\"How capable is the surrogate model when it comes to predicting the outputs of the black box model?\")\n",
    "print(f\"Accuracy: {train_accuracy:.2f}\")\n",
    "print(f\"ROC AUC: {train_roc_auc:.2f}\")\n",
    "print(f\"F1 Score: {train_f1:.2f}\")"
   ]
  }
 ],
 "metadata": {
  "kernelspec": {
   "display_name": "base",
   "language": "python",
   "name": "python3"
  },
  "language_info": {
   "codemirror_mode": {
    "name": "ipython",
    "version": 3
   },
   "file_extension": ".py",
   "mimetype": "text/x-python",
   "name": "python",
   "nbconvert_exporter": "python",
   "pygments_lexer": "ipython3",
   "version": "3.8.8"
  }
 },
 "nbformat": 4,
 "nbformat_minor": 2
}
