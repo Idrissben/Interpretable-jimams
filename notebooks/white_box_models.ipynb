{
 "cells": [
  {
   "cell_type": "code",
   "execution_count": 1,
   "metadata": {},
   "outputs": [],
   "source": [
    "import pandas as pd\n",
    "from sklearn.model_selection import train_test_split\n",
    "from sklearn.metrics import accuracy_score, balanced_accuracy_score, roc_auc_score, f1_score\n",
    "import seaborn as sns\n",
    "import numpy as np\n",
    "from pygam import LogisticGAM"
   ]
  },
  {
   "cell_type": "markdown",
   "metadata": {},
   "source": [
    "### Data Preprocessing"
   ]
  },
  {
   "cell_type": "code",
   "execution_count": 2,
   "metadata": {},
   "outputs": [],
   "source": [
    "raw_data = pd.read_csv(\"../../data_clean.csv\")\n",
    "data = raw_data[raw_data['birth date'] < 2020].copy()\n",
    "\n",
    "data['age'] = data['parole board interview date'] - data['birth date']\n",
    "data['jail duration'] = data['parole board interview date'] - data['year of entry']\n",
    "\n",
    "others_parole_type =  ['PIE', 'SP CONSDR', 'ECPDO', 'MEDICAL','RESCISSION', 'DEPORT']\n",
    "data['parole board interview type'] = data['parole board interview type'].replace(others_parole_type, 'OTHERS').replace('SUPP MERIT', 'MERIT TIME').replace('PV REAPP', 'REAPPEAR')\n",
    "\n",
    "data = data.dropna(axis=0, subset=['crime 1 - class', 'parole eligibility date'])\n",
    "\n",
    "df_one_hot = pd.get_dummies(data, columns=[\n",
    "    \"sex\", \"race / ethnicity\"], drop_first=True)\n",
    "\n",
    "df_one_hot = pd.get_dummies(df_one_hot, columns=[\n",
    "    \"crime 1 - class\", \"crime 2 - class\",\n",
    "    \"crime 3 - class\", \"crime 4 - class\",\n",
    "    \"parole board interview type\"])\n",
    "\n",
    "df_one_hot.drop(columns=['release date','birth date', 'year of entry'],inplace=True)\n",
    "\n",
    "X_train, X_test, y_train, y_test = train_test_split(df_one_hot.drop('y',axis=1), df_one_hot['y'], \n",
    "                                                    stratify=df_one_hot['y'], test_size=0.3, random_state=42)"
   ]
  },
  {
   "cell_type": "markdown",
   "metadata": {},
   "source": [
    "### GAM"
   ]
  },
  {
   "cell_type": "code",
   "execution_count": 9,
   "metadata": {},
   "outputs": [
    {
     "name": "stdout",
     "output_type": "stream",
     "text": [
      "Training Metrics:\n",
      "Accuracy: 0.80\n",
      "Balanced Accuracy: 0.52\n",
      "ROC AUC: 0.52\n",
      "F1 Score: 0.10\n",
      "\n",
      "Test Metrics:\n",
      "Accuracy: 0.80\n",
      "Balanced Accuracy: 0.53\n",
      "ROC AUC: 0.53\n",
      "F1 Score: 0.11\n"
     ]
    }
   ],
   "source": [
    "# Create a DummyClassifier\n",
    "gam = LogisticGAM()\n",
    "\n",
    "# Fit the DummyClassifier on the training data\n",
    "gam.fit(X_train, y_train)\n",
    "\n",
    "# Make predictions on both the training and test datasets\n",
    "train_predictions = gam.predict(X_train)\n",
    "test_predictions = gam.predict(X_test)\n",
    "\n",
    "# Calculate evaluation metrics for the training dataset\n",
    "train_accuracy = accuracy_score(y_train, train_predictions)\n",
    "train_balanced_accuracy = balanced_accuracy_score(y_train, train_predictions)\n",
    "train_roc_auc = roc_auc_score(y_train, train_predictions)\n",
    "train_f1 = f1_score(y_train, train_predictions)\n",
    "\n",
    "# Calculate evaluation metrics for the test dataset\n",
    "test_accuracy = accuracy_score(y_test, test_predictions)\n",
    "test_balanced_accuracy = balanced_accuracy_score(y_test, test_predictions)\n",
    "test_roc_auc = roc_auc_score(y_test, test_predictions)\n",
    "test_f1 = f1_score(y_test, test_predictions)\n",
    "\n",
    "# Print the evaluation metrics\n",
    "print(\"Training Metrics:\")\n",
    "print(f\"Accuracy: {train_accuracy:.2f}\")\n",
    "print(f\"Balanced Accuracy: {train_balanced_accuracy:.2f}\")\n",
    "print(f\"ROC AUC: {train_roc_auc:.2f}\")\n",
    "print(f\"F1 Score: {train_f1:.2f}\")\n",
    "print(\"\\nTest Metrics:\")\n",
    "print(f\"Accuracy: {test_accuracy:.2f}\")\n",
    "print(f\"Balanced Accuracy: {test_balanced_accuracy:.2f}\")\n",
    "print(f\"ROC AUC: {test_roc_auc:.2f}\")\n",
    "print(f\"F1 Score: {test_f1:.2f}\")"
   ]
  },
  {
   "cell_type": "markdown",
   "metadata": {},
   "source": [
    "### Decision Trees"
   ]
  },
  {
   "cell_type": "code",
   "execution_count": 11,
   "metadata": {},
   "outputs": [
    {
     "name": "stdout",
     "output_type": "stream",
     "text": [
      "Training Metrics:\n",
      "Accuracy: 0.98\n",
      "Balanced Accuracy: 0.95\n",
      "ROC AUC: 0.95\n",
      "F1 Score: 0.95\n",
      "\n",
      "Test Metrics:\n",
      "Accuracy: 0.72\n",
      "Balanced Accuracy: 0.58\n",
      "ROC AUC: 0.58\n",
      "F1 Score: 0.32\n"
     ]
    }
   ],
   "source": [
    "from sklearn.tree import DecisionTreeClassifier\n",
    "\n",
    "# Create a Decision Tree classifier\n",
    "dt_classifier = DecisionTreeClassifier()\n",
    "\n",
    "# Fit the Decision Tree classifier on the training data\n",
    "dt_classifier.fit(X_train, y_train)\n",
    "\n",
    "# Make predictions on both the training and test datasets\n",
    "train_predictions = dt_classifier.predict(X_train)\n",
    "test_predictions = dt_classifier.predict(X_test)\n",
    "\n",
    "# Calculate evaluation metrics for the training dataset\n",
    "train_accuracy = accuracy_score(y_train, train_predictions)\n",
    "train_balanced_accuracy = balanced_accuracy_score(y_train, train_predictions)\n",
    "train_roc_auc = roc_auc_score(y_train, train_predictions)\n",
    "train_f1 = f1_score(y_train, train_predictions)\n",
    "\n",
    "# Calculate evaluation metrics for the test dataset\n",
    "test_accuracy = accuracy_score(y_test, test_predictions)\n",
    "test_balanced_accuracy = balanced_accuracy_score(y_test, test_predictions)\n",
    "test_roc_auc = roc_auc_score(y_test, test_predictions)\n",
    "test_f1 = f1_score(y_test, test_predictions)\n",
    "\n",
    "# Print the evaluation metrics\n",
    "print(\"Training Metrics:\")\n",
    "print(f\"Accuracy: {train_accuracy:.2f}\")\n",
    "print(f\"Balanced Accuracy: {train_balanced_accuracy:.2f}\")\n",
    "print(f\"ROC AUC: {train_roc_auc:.2f}\")\n",
    "print(f\"F1 Score: {train_f1:.2f}\")\n",
    "print(\"\\nTest Metrics:\")\n",
    "print(f\"Accuracy: {test_accuracy:.2f}\")\n",
    "print(f\"Balanced Accuracy: {test_balanced_accuracy:.2f}\")\n",
    "print(f\"ROC AUC: {test_roc_auc:.2f}\")\n",
    "print(f\"F1 Score: {test_f1:.2f}\")"
   ]
  }
 ],
 "metadata": {
  "kernelspec": {
   "display_name": "base",
   "language": "python",
   "name": "python3"
  },
  "language_info": {
   "codemirror_mode": {
    "name": "ipython",
    "version": 3
   },
   "file_extension": ".py",
   "mimetype": "text/x-python",
   "name": "python",
   "nbconvert_exporter": "python",
   "pygments_lexer": "ipython3",
   "version": "3.8.8"
  }
 },
 "nbformat": 4,
 "nbformat_minor": 2
}
