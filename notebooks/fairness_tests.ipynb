{
 "cells": [
  {
   "cell_type": "code",
   "execution_count": 5,
   "metadata": {},
   "outputs": [],
   "source": [
    "from pdpbox import pdp\n",
    "import pickle\n",
    "from sklearn.model_selection import train_test_split\n",
    "import pandas as pd\n",
    "from scipy.stats import chi2_contingency"
   ]
  },
  {
   "cell_type": "code",
   "execution_count": 2,
   "metadata": {},
   "outputs": [],
   "source": [
    "raw_data = pd.read_csv(\"../../data_clean.csv\")\n",
    "data = raw_data[raw_data['birth date'] < 2020].copy()\n",
    "\n",
    "data['age'] = data['parole board interview date'] - data['birth date']\n",
    "data['jail duration'] = data['parole board interview date'] - data['year of entry']\n",
    "\n",
    "others_parole_type =  ['PIE', 'SP CONSDR', 'ECPDO', 'MEDICAL','RESCISSION', 'DEPORT']\n",
    "data['parole board interview type'] = data['parole board interview type'].replace(others_parole_type, 'OTHERS').replace('SUPP MERIT', 'MERIT TIME').replace('PV REAPP', 'REAPPEAR')\n",
    "\n",
    "data = data.dropna(axis=0, subset=['crime 1 - class', 'parole eligibility date'])\n",
    "\n",
    "df_one_hot = pd.get_dummies(data, columns=[\n",
    "    \"sex\", \"race / ethnicity\"], drop_first=True)\n",
    "\n",
    "df_one_hot = pd.get_dummies(df_one_hot, columns=[\n",
    "    \"crime 1 - class\", \"crime 2 - class\",\n",
    "    \"crime 3 - class\", \"crime 4 - class\",\n",
    "    \"parole board interview type\"])\n",
    "\n",
    "df_one_hot.drop(columns=['release date','birth date', 'year of entry'],inplace=True)\n",
    "\n",
    "X_train, X_test, y_train, y_test = train_test_split(df_one_hot.drop('y',axis=1), df_one_hot['y'], \n",
    "                                                    stratify=df_one_hot['y'], test_size=0.3, random_state=42)"
   ]
  },
  {
   "cell_type": "code",
   "execution_count": 3,
   "metadata": {},
   "outputs": [],
   "source": [
    "# Load the model from the .pkl file\n",
    "xgb_classifier = pickle.load(open(\"../model.pkl\", \"rb\"))"
   ]
  },
  {
   "cell_type": "code",
   "execution_count": 4,
   "metadata": {},
   "outputs": [],
   "source": [
    "data_train, _, _, _ = train_test_split(data.drop('y',axis=1), data['y'],\n",
    "                                                    stratify=data['y'], test_size=0.3, random_state=42)"
   ]
  },
  {
   "cell_type": "markdown",
   "metadata": {},
   "source": [
    "## Statistical Parity"
   ]
  },
  {
   "cell_type": "markdown",
   "metadata": {},
   "source": [
    "### Race / Ethnicity"
   ]
  },
  {
   "cell_type": "code",
   "execution_count": 6,
   "metadata": {},
   "outputs": [
    {
     "name": "stdout",
     "output_type": "stream",
     "text": [
      "col_0                0     1\n",
      "race / ethnicity            \n",
      "AMER IND/ALSK      124   112\n",
      "ASIAN/PACIFIC       19    77\n",
      "BLACK             6602  2427\n",
      "HISPANIC          2432  1451\n",
      "OTHER              101   144\n",
      "UNKNOWN            156    73\n",
      "WHITE             2815  4576\n",
      "Chi-square value: 2183.3999567943815\n",
      "P-value: 0.0\n"
     ]
    }
   ],
   "source": [
    "# Create a contingency table\n",
    "contingency_table = pd.crosstab(data_train['race / ethnicity'], xgb_classifier.predict(X_train))\n",
    "print(contingency_table)\n",
    "\n",
    "# Perform the chi-square test\n",
    "chi2, p, a, b = chi2_contingency(contingency_table)\n",
    "print(f\"Chi-square value: {chi2}\")\n",
    "print(f\"P-value: {p}\")"
   ]
  },
  {
   "cell_type": "markdown",
   "metadata": {},
   "source": [
    "### Sex"
   ]
  },
  {
   "cell_type": "code",
   "execution_count": 7,
   "metadata": {},
   "outputs": [
    {
     "name": "stdout",
     "output_type": "stream",
     "text": [
      "col_0       0     1\n",
      "sex                \n",
      "FEMALE    199  1167\n",
      "MALE    12050  7693\n",
      "Chi-square value: 1130.6801158733504\n",
      "P-value: 7.092827025265842e-248\n"
     ]
    }
   ],
   "source": [
    "# Create a contingency table\n",
    "contingency_table = pd.crosstab(data_train['sex'], xgb_classifier.predict(X_train))\n",
    "print(contingency_table)\n",
    "\n",
    "# Perform the chi-square test\n",
    "chi2, p, a, b = chi2_contingency(contingency_table)\n",
    "print(f\"Chi-square value: {chi2}\")\n",
    "print(f\"P-value: {p}\")"
   ]
  },
  {
   "cell_type": "markdown",
   "metadata": {},
   "source": [
    "## Conditional Statistical Parity"
   ]
  },
  {
   "cell_type": "code",
   "execution_count": 9,
   "metadata": {},
   "outputs": [],
   "source": [
    "# Create three dataframes based on age ranges\n",
    "data_train_0_30 = data_train[(data_train['age'] >= 0) & (data_train['age'] <= 30)]\n",
    "data_train_30_50 = data_train[(data_train['age'] > 30) & (data_train['age'] <= 50)]\n",
    "data_train_50_plus = data_train[data_train['age'] > 50]\n",
    "\n",
    "X_train_0_30 = X_train[(X_train['age'] >= 0) & (X_train['age'] <= 30)]\n",
    "X_train_30_50 = X_train[(X_train['age'] > 30) & (X_train['age'] <= 50)]\n",
    "X_train_50_plus = X_train[X_train['age'] > 50]\n"
   ]
  },
  {
   "cell_type": "markdown",
   "metadata": {},
   "source": [
    "### Race / Ethnicity - Ages between 0 and 30"
   ]
  },
  {
   "cell_type": "code",
   "execution_count": 10,
   "metadata": {},
   "outputs": [
    {
     "name": "stdout",
     "output_type": "stream",
     "text": [
      "col_0                0     1\n",
      "race / ethnicity            \n",
      "AMER IND/ALSK       39    38\n",
      "ASIAN/PACIFIC        5    18\n",
      "BLACK             1670   804\n",
      "HISPANIC           553   444\n",
      "OTHER               30    43\n",
      "UNKNOWN             11    22\n",
      "WHITE              578  1452\n",
      "Chi-square value: 704.0389084793584\n",
      "P-value: 8.212289839881594e-149\n"
     ]
    }
   ],
   "source": [
    "# Create a contingency table\n",
    "contingency_table = pd.crosstab(data_train_0_30['race / ethnicity'], xgb_classifier.predict(X_train_0_30))\n",
    "print(contingency_table)\n",
    "\n",
    "# Perform the chi-square test\n",
    "chi2, p, a, b = chi2_contingency(contingency_table)\n",
    "print(f\"Chi-square value: {chi2}\")\n",
    "print(f\"P-value: {p}\")"
   ]
  },
  {
   "cell_type": "markdown",
   "metadata": {},
   "source": [
    "### Race / Ethnicity - Ages between 30 and 50"
   ]
  },
  {
   "cell_type": "code",
   "execution_count": 11,
   "metadata": {},
   "outputs": [
    {
     "name": "stdout",
     "output_type": "stream",
     "text": [
      "col_0                0     1\n",
      "race / ethnicity            \n",
      "AMER IND/ALSK       70    54\n",
      "ASIAN/PACIFIC       13    44\n",
      "BLACK             3244  1189\n",
      "HISPANIC          1402   789\n",
      "OTHER               57    81\n",
      "UNKNOWN             37    35\n",
      "WHITE             1418  2331\n",
      "Chi-square value: 1124.068729257814\n",
      "P-value: 1.2930579279577635e-239\n"
     ]
    }
   ],
   "source": [
    "# Create a contingency table\n",
    "contingency_table = pd.crosstab(data_train_30_50['race / ethnicity'], xgb_classifier.predict(X_train_30_50))\n",
    "print(contingency_table)\n",
    "\n",
    "# Perform the chi-square test\n",
    "chi2, p, a, b = chi2_contingency(contingency_table)\n",
    "print(f\"Chi-square value: {chi2}\")\n",
    "print(f\"P-value: {p}\")"
   ]
  },
  {
   "cell_type": "markdown",
   "metadata": {},
   "source": [
    "### Race / Ethnicity - Ages 50+"
   ]
  },
  {
   "cell_type": "code",
   "execution_count": 12,
   "metadata": {},
   "outputs": [
    {
     "name": "stdout",
     "output_type": "stream",
     "text": [
      "col_0                0    1\n",
      "race / ethnicity           \n",
      "AMER IND/ALSK       15   20\n",
      "ASIAN/PACIFIC        1   15\n",
      "BLACK             1688  434\n",
      "HISPANIC           477  218\n",
      "OTHER               14   20\n",
      "UNKNOWN            108   16\n",
      "WHITE              819  793\n",
      "Chi-square value: 413.7772244287472\n",
      "P-value: 3.0483076784034425e-86\n"
     ]
    }
   ],
   "source": [
    "# Create a contingency table\n",
    "contingency_table = pd.crosstab(data_train_50_plus['race / ethnicity'], xgb_classifier.predict(X_train_50_plus))\n",
    "print(contingency_table)\n",
    "\n",
    "# Perform the chi-square test\n",
    "chi2, p, a, b = chi2_contingency(contingency_table)\n",
    "print(f\"Chi-square value: {chi2}\")\n",
    "print(f\"P-value: {p}\")"
   ]
  },
  {
   "cell_type": "markdown",
   "metadata": {},
   "source": [
    "### Sex - Ages between 0 and 30"
   ]
  },
  {
   "cell_type": "code",
   "execution_count": 13,
   "metadata": {},
   "outputs": [
    {
     "name": "stdout",
     "output_type": "stream",
     "text": [
      "col_0      0     1\n",
      "sex               \n",
      "FEMALE    51   340\n",
      "MALE    2835  2481\n",
      "Chi-square value: 234.8635088959887\n",
      "P-value: 5.184889177194976e-53\n"
     ]
    }
   ],
   "source": [
    "# Create a contingency table\n",
    "contingency_table = pd.crosstab(data_train_0_30['sex'], xgb_classifier.predict(X_train_0_30))\n",
    "print(contingency_table)\n",
    "\n",
    "# Perform the chi-square test\n",
    "chi2, p, a, b = chi2_contingency(contingency_table)\n",
    "print(f\"Chi-square value: {chi2}\")\n",
    "print(f\"P-value: {p}\")"
   ]
  },
  {
   "cell_type": "markdown",
   "metadata": {},
   "source": [
    "### Sex - Ages between 30 and 50"
   ]
  },
  {
   "cell_type": "code",
   "execution_count": 14,
   "metadata": {},
   "outputs": [
    {
     "name": "stdout",
     "output_type": "stream",
     "text": [
      "col_0      0     1\n",
      "sex               \n",
      "FEMALE    94   640\n",
      "MALE    6147  3883\n",
      "Chi-square value: 657.805082933518\n",
      "P-value: 4.484095764103915e-145\n"
     ]
    }
   ],
   "source": [
    "# Create a contingency table\n",
    "contingency_table = pd.crosstab(data_train_30_50['sex'], xgb_classifier.predict(X_train_30_50))\n",
    "print(contingency_table)\n",
    "\n",
    "# Perform the chi-square test\n",
    "chi2, p, a, b = chi2_contingency(contingency_table)\n",
    "print(f\"Chi-square value: {chi2}\")\n",
    "print(f\"P-value: {p}\")"
   ]
  },
  {
   "cell_type": "markdown",
   "metadata": {},
   "source": [
    "### Sex - Ages 50+"
   ]
  },
  {
   "cell_type": "code",
   "execution_count": 15,
   "metadata": {},
   "outputs": [
    {
     "name": "stdout",
     "output_type": "stream",
     "text": [
      "col_0      0     1\n",
      "sex               \n",
      "FEMALE    54   187\n",
      "MALE    3068  1329\n",
      "Chi-square value: 230.8468163257105\n",
      "P-value: 3.896435670465833e-52\n"
     ]
    }
   ],
   "source": [
    "# Create a contingency table\n",
    "contingency_table = pd.crosstab(data_train_50_plus['sex'], xgb_classifier.predict(X_train_50_plus))\n",
    "print(contingency_table)\n",
    "\n",
    "# Perform the chi-square test\n",
    "chi2, p, a, b = chi2_contingency(contingency_table)\n",
    "print(f\"Chi-square value: {chi2}\")\n",
    "print(f\"P-value: {p}\")"
   ]
  }
 ],
 "metadata": {
  "kernelspec": {
   "display_name": "base",
   "language": "python",
   "name": "python3"
  },
  "language_info": {
   "codemirror_mode": {
    "name": "ipython",
    "version": 3
   },
   "file_extension": ".py",
   "mimetype": "text/x-python",
   "name": "python",
   "nbconvert_exporter": "python",
   "pygments_lexer": "ipython3",
   "version": "3.8.8"
  }
 },
 "nbformat": 4,
 "nbformat_minor": 2
}
