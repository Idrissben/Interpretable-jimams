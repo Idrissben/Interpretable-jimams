{
 "cells": [
  {
   "cell_type": "code",
   "execution_count": 1,
   "metadata": {},
   "outputs": [],
   "source": [
    "from pdpbox import pdp\n",
    "import pickle\n",
    "from sklearn.model_selection import train_test_split\n",
    "import pandas as pd\n",
    "from scipy.stats import chi2_contingency"
   ]
  },
  {
   "cell_type": "code",
   "execution_count": 2,
   "metadata": {},
   "outputs": [],
   "source": [
    "raw_data = pd.read_csv(\"../../data_clean.csv\")\n",
    "data = raw_data[raw_data['birth date'] < 2020].copy()\n",
    "\n",
    "data['age'] = data['parole board interview date'] - data['birth date']\n",
    "data['jail duration'] = data['parole board interview date'] - data['year of entry']\n",
    "\n",
    "others_parole_type =  ['PIE', 'SP CONSDR', 'ECPDO', 'MEDICAL','RESCISSION', 'DEPORT']\n",
    "data['parole board interview type'] = data['parole board interview type'].replace(others_parole_type, 'OTHERS').replace('SUPP MERIT', 'MERIT TIME').replace('PV REAPP', 'REAPPEAR')\n",
    "\n",
    "data = data.dropna(axis=0, subset=['crime 1 - class', 'parole eligibility date'])\n",
    "\n",
    "df_one_hot = pd.get_dummies(data, columns=[\n",
    "    \"sex\", \"race / ethnicity\"], drop_first=True)\n",
    "\n",
    "df_one_hot = pd.get_dummies(df_one_hot, columns=[\n",
    "    \"crime 1 - class\", \"crime 2 - class\",\n",
    "    \"crime 3 - class\", \"crime 4 - class\",\n",
    "    \"parole board interview type\"])\n",
    "\n",
    "df_one_hot.drop(columns=['release date','birth date', 'year of entry'],inplace=True)\n",
    "\n",
    "X_train, X_test, y_train, y_test = train_test_split(df_one_hot.drop('y',axis=1), df_one_hot['y'], \n",
    "                                                    stratify=df_one_hot['y'], test_size=0.3, random_state=42)"
   ]
  },
  {
   "cell_type": "code",
   "execution_count": 3,
   "metadata": {},
   "outputs": [],
   "source": [
    "# Load the model from the .pkl file\n",
    "xgb_classifier = pickle.load(open(\"../model.pkl\", \"rb\"))"
   ]
  },
  {
   "cell_type": "code",
   "execution_count": 4,
   "metadata": {},
   "outputs": [],
   "source": [
    "data_train, _, _, _ = train_test_split(data.drop('y',axis=1), data['y'],\n",
    "                                                    stratify=data['y'], test_size=0.3, random_state=42)"
   ]
  },
  {
   "cell_type": "markdown",
   "metadata": {},
   "source": [
    "## Statistical Parity"
   ]
  },
  {
   "cell_type": "markdown",
   "metadata": {},
   "source": [
    "### Race / Ethnicity"
   ]
  },
  {
   "cell_type": "code",
   "execution_count": 5,
   "metadata": {},
   "outputs": [
    {
     "name": "stdout",
     "output_type": "stream",
     "text": [
      "col_0                0     1\n",
      "race / ethnicity            \n",
      "AMER IND/ALSK      124   112\n",
      "ASIAN/PACIFIC       19    77\n",
      "BLACK             6602  2427\n",
      "HISPANIC          2432  1451\n",
      "OTHER              101   144\n",
      "UNKNOWN            156    73\n",
      "WHITE             2815  4576\n",
      "Chi-square value: 2183.3999567943815\n",
      "P-value: 0.0\n"
     ]
    }
   ],
   "source": [
    "# Create a contingency table\n",
    "contingency_table = pd.crosstab(data_train['race / ethnicity'], xgb_classifier.predict(X_train))\n",
    "print(contingency_table)\n",
    "\n",
    "# Perform the chi-square test\n",
    "chi2, p, a, b = chi2_contingency(contingency_table)\n",
    "print(f\"Chi-square value: {chi2}\")\n",
    "print(f\"P-value: {p}\")"
   ]
  },
  {
   "cell_type": "markdown",
   "metadata": {},
   "source": [
    "### Sex"
   ]
  },
  {
   "cell_type": "code",
   "execution_count": 6,
   "metadata": {},
   "outputs": [
    {
     "name": "stdout",
     "output_type": "stream",
     "text": [
      "col_0       0     1\n",
      "sex                \n",
      "FEMALE    199  1167\n",
      "MALE    12050  7693\n",
      "Chi-square value: 1130.6801158733504\n",
      "P-value: 7.092827025265842e-248\n"
     ]
    }
   ],
   "source": [
    "# Create a contingency table\n",
    "contingency_table = pd.crosstab(data_train['sex'], xgb_classifier.predict(X_train))\n",
    "print(contingency_table)\n",
    "\n",
    "# Perform the chi-square test\n",
    "chi2, p, a, b = chi2_contingency(contingency_table)\n",
    "print(f\"Chi-square value: {chi2}\")\n",
    "print(f\"P-value: {p}\")"
   ]
  },
  {
   "cell_type": "markdown",
   "metadata": {},
   "source": [
    "## Conditional Statistical Parity"
   ]
  },
  {
   "cell_type": "code",
   "execution_count": 7,
   "metadata": {},
   "outputs": [],
   "source": [
    "# Create three dataframes based on age ranges\n",
    "data_train_0_30 = data_train[(data_train['age'] >= 0) & (data_train['age'] <= 30)]\n",
    "data_train_30_50 = data_train[(data_train['age'] > 30) & (data_train['age'] <= 50)]\n",
    "data_train_50_plus = data_train[data_train['age'] > 50]\n",
    "\n",
    "X_train_0_30 = X_train[(X_train['age'] >= 0) & (X_train['age'] <= 30)]\n",
    "X_train_30_50 = X_train[(X_train['age'] > 30) & (X_train['age'] <= 50)]\n",
    "X_train_50_plus = X_train[X_train['age'] > 50]\n"
   ]
  },
  {
   "cell_type": "markdown",
   "metadata": {},
   "source": [
    "### Race / Ethnicity - Ages between 0 and 30"
   ]
  },
  {
   "cell_type": "code",
   "execution_count": 8,
   "metadata": {},
   "outputs": [
    {
     "name": "stdout",
     "output_type": "stream",
     "text": [
      "col_0                0     1\n",
      "race / ethnicity            \n",
      "AMER IND/ALSK       39    38\n",
      "ASIAN/PACIFIC        5    18\n",
      "BLACK             1670   804\n",
      "HISPANIC           553   444\n",
      "OTHER               30    43\n",
      "UNKNOWN             11    22\n",
      "WHITE              578  1452\n",
      "Chi-square value: 704.0389084793584\n",
      "P-value: 8.212289839881594e-149\n"
     ]
    }
   ],
   "source": [
    "# Create a contingency table\n",
    "contingency_table = pd.crosstab(data_train_0_30['race / ethnicity'], xgb_classifier.predict(X_train_0_30))\n",
    "print(contingency_table)\n",
    "\n",
    "# Perform the chi-square test\n",
    "chi2, p, a, b = chi2_contingency(contingency_table)\n",
    "print(f\"Chi-square value: {chi2}\")\n",
    "print(f\"P-value: {p}\")"
   ]
  },
  {
   "cell_type": "markdown",
   "metadata": {},
   "source": [
    "### Race / Ethnicity - Ages between 30 and 50"
   ]
  },
  {
   "cell_type": "code",
   "execution_count": 9,
   "metadata": {},
   "outputs": [
    {
     "name": "stdout",
     "output_type": "stream",
     "text": [
      "col_0                0     1\n",
      "race / ethnicity            \n",
      "AMER IND/ALSK       70    54\n",
      "ASIAN/PACIFIC       13    44\n",
      "BLACK             3244  1189\n",
      "HISPANIC          1402   789\n",
      "OTHER               57    81\n",
      "UNKNOWN             37    35\n",
      "WHITE             1418  2331\n",
      "Chi-square value: 1124.068729257814\n",
      "P-value: 1.2930579279577635e-239\n"
     ]
    }
   ],
   "source": [
    "# Create a contingency table\n",
    "contingency_table = pd.crosstab(data_train_30_50['race / ethnicity'], xgb_classifier.predict(X_train_30_50))\n",
    "print(contingency_table)\n",
    "\n",
    "# Perform the chi-square test\n",
    "chi2, p, a, b = chi2_contingency(contingency_table)\n",
    "print(f\"Chi-square value: {chi2}\")\n",
    "print(f\"P-value: {p}\")"
   ]
  },
  {
   "cell_type": "markdown",
   "metadata": {},
   "source": [
    "### Race / Ethnicity - Ages 50+"
   ]
  },
  {
   "cell_type": "code",
   "execution_count": 10,
   "metadata": {},
   "outputs": [
    {
     "name": "stdout",
     "output_type": "stream",
     "text": [
      "col_0                0    1\n",
      "race / ethnicity           \n",
      "AMER IND/ALSK       15   20\n",
      "ASIAN/PACIFIC        1   15\n",
      "BLACK             1688  434\n",
      "HISPANIC           477  218\n",
      "OTHER               14   20\n",
      "UNKNOWN            108   16\n",
      "WHITE              819  793\n",
      "Chi-square value: 413.7772244287472\n",
      "P-value: 3.0483076784034425e-86\n"
     ]
    }
   ],
   "source": [
    "# Create a contingency table\n",
    "contingency_table = pd.crosstab(data_train_50_plus['race / ethnicity'], xgb_classifier.predict(X_train_50_plus))\n",
    "print(contingency_table)\n",
    "\n",
    "# Perform the chi-square test\n",
    "chi2, p, a, b = chi2_contingency(contingency_table)\n",
    "print(f\"Chi-square value: {chi2}\")\n",
    "print(f\"P-value: {p}\")"
   ]
  },
  {
   "cell_type": "markdown",
   "metadata": {},
   "source": [
    "### Sex - Ages between 0 and 30"
   ]
  },
  {
   "cell_type": "code",
   "execution_count": 11,
   "metadata": {},
   "outputs": [
    {
     "name": "stdout",
     "output_type": "stream",
     "text": [
      "col_0      0     1\n",
      "sex               \n",
      "FEMALE    51   340\n",
      "MALE    2835  2481\n",
      "Chi-square value: 234.8635088959887\n",
      "P-value: 5.184889177194976e-53\n"
     ]
    }
   ],
   "source": [
    "# Create a contingency table\n",
    "contingency_table = pd.crosstab(data_train_0_30['sex'], xgb_classifier.predict(X_train_0_30))\n",
    "print(contingency_table)\n",
    "\n",
    "# Perform the chi-square test\n",
    "chi2, p, a, b = chi2_contingency(contingency_table)\n",
    "print(f\"Chi-square value: {chi2}\")\n",
    "print(f\"P-value: {p}\")"
   ]
  },
  {
   "cell_type": "markdown",
   "metadata": {},
   "source": [
    "### Sex - Ages between 30 and 50"
   ]
  },
  {
   "cell_type": "code",
   "execution_count": 12,
   "metadata": {},
   "outputs": [
    {
     "name": "stdout",
     "output_type": "stream",
     "text": [
      "col_0      0     1\n",
      "sex               \n",
      "FEMALE    94   640\n",
      "MALE    6147  3883\n",
      "Chi-square value: 657.805082933518\n",
      "P-value: 4.484095764103915e-145\n"
     ]
    }
   ],
   "source": [
    "# Create a contingency table\n",
    "contingency_table = pd.crosstab(data_train_30_50['sex'], xgb_classifier.predict(X_train_30_50))\n",
    "print(contingency_table)\n",
    "\n",
    "# Perform the chi-square test\n",
    "chi2, p, a, b = chi2_contingency(contingency_table)\n",
    "print(f\"Chi-square value: {chi2}\")\n",
    "print(f\"P-value: {p}\")"
   ]
  },
  {
   "cell_type": "markdown",
   "metadata": {},
   "source": [
    "### Sex - Ages 50+"
   ]
  },
  {
   "cell_type": "code",
   "execution_count": 13,
   "metadata": {},
   "outputs": [
    {
     "name": "stdout",
     "output_type": "stream",
     "text": [
      "col_0      0     1\n",
      "sex               \n",
      "FEMALE    54   187\n",
      "MALE    3068  1329\n",
      "Chi-square value: 230.8468163257105\n",
      "P-value: 3.896435670465833e-52\n"
     ]
    }
   ],
   "source": [
    "# Create a contingency table\n",
    "contingency_table = pd.crosstab(data_train_50_plus['sex'], xgb_classifier.predict(X_train_50_plus))\n",
    "print(contingency_table)\n",
    "\n",
    "# Perform the chi-square test\n",
    "chi2, p, a, b = chi2_contingency(contingency_table)\n",
    "print(f\"Chi-square value: {chi2}\")\n",
    "print(f\"P-value: {p}\")"
   ]
  },
  {
   "cell_type": "markdown",
   "metadata": {},
   "source": [
    "## Conditional Statistical Fairness"
   ]
  },
  {
   "cell_type": "code",
   "execution_count": 25,
   "metadata": {},
   "outputs": [],
   "source": [
    "def preprocess_data(raw_data):\n",
    "    data = raw_data[raw_data['birth date'] < 2020].copy()\n",
    "    data['age'] = data['parole board interview date'] - data['birth date']\n",
    "    data['jail duration'] = data['parole board interview date'] - data['year of entry']\n",
    "    others_parole_type =  ['PIE', 'SP CONSDR', 'ECPDO', 'MEDICAL','RESCISSION', 'DEPORT']\n",
    "    data['parole board interview type'] = data['parole board interview type'].replace(others_parole_type, 'OTHERS').replace('SUPP MERIT', 'MERIT TIME').replace('PV REAPP', 'REAPPEAR')\n",
    "    data = data.dropna(axis=0, subset=['crime 1 - class', 'parole eligibility date'])\n",
    "    df_one_hot = pd.get_dummies(data, columns=[\n",
    "        \"sex\", \"race / ethnicity\"], drop_first=True)\n",
    "    df_one_hot = pd.get_dummies(df_one_hot, columns=[\n",
    "        \"crime 1 - class\", \"crime 2 - class\",\n",
    "        \"crime 3 - class\", \"crime 4 - class\",\n",
    "        \"parole board interview type\"])\n",
    "    df_one_hot.drop(columns=['release date','birth date', 'year of entry'], inplace=True)\n",
    "    return df_one_hot"
   ]
  },
  {
   "cell_type": "code",
   "execution_count": 64,
   "metadata": {},
   "outputs": [],
   "source": [
    "def replace_predict_chi_square(model, X, column, protected_column, value):\n",
    "    X_copied = preprocess_data(X)\n",
    "    unique_values = X[column].unique()\n",
    "    if X[column].dtype in ['category', 'bool']:\n",
    "        for unique_value in unique_values:\n",
    "            if str(unique_value) != 'nan':\n",
    "                X_copied[column + \"_\" + str(unique_value)] = int(value == unique_value) \n",
    "    else:\n",
    "        X_copied[column] = value\n",
    "    y_pred = model.predict(X_copied)\n",
    "    contingency_table = pd.crosstab(X.loc[X_copied.index][protected_column], y_pred)\n",
    "    chi2, p, a, b = chi2_contingency(contingency_table)\n",
    "    return p"
   ]
  },
  {
   "cell_type": "code",
   "execution_count": 65,
   "metadata": {},
   "outputs": [],
   "source": [
    "import numpy as np\n",
    "import matplotlib.pyplot as plt\n",
    "def predict_chi_square(model, X, column, protected_column):\n",
    "    if X[column].dtype == 'float64':\n",
    "        values_final = np.linspace(X[column].min(), X[column].max(), 50)\n",
    "    else:\n",
    "        values = X[column].unique()\n",
    "    p_values = []\n",
    "    values_final = []\n",
    "    for value in values:\n",
    "        if not(str(value) == 'nan'):\n",
    "            p_value = replace_predict_chi_square(model, X, column, protected_column, value)\n",
    "            p_values.append(p_value)\n",
    "            values_final.append(value)\n",
    "\n",
    "    plt.figure()\n",
    "    plt.plot(values_final, p_values)\n",
    "    plt.show()"
   ]
  },
  {
   "cell_type": "code",
   "execution_count": 66,
   "metadata": {},
   "outputs": [
    {
     "data": {
      "text/html": [
       "<div>\n",
       "<style scoped>\n",
       "    .dataframe tbody tr th:only-of-type {\n",
       "        vertical-align: middle;\n",
       "    }\n",
       "\n",
       "    .dataframe tbody tr th {\n",
       "        vertical-align: top;\n",
       "    }\n",
       "\n",
       "    .dataframe thead th {\n",
       "        text-align: right;\n",
       "    }\n",
       "</style>\n",
       "<table border=\"1\" class=\"dataframe\">\n",
       "  <thead>\n",
       "    <tr style=\"text-align: right;\">\n",
       "      <th></th>\n",
       "      <th>parole board interview date</th>\n",
       "      <th>sex</th>\n",
       "      <th>birth date</th>\n",
       "      <th>race / ethnicity</th>\n",
       "      <th>parole board interview type</th>\n",
       "      <th>year of entry</th>\n",
       "      <th>release date</th>\n",
       "      <th>parole eligibility date</th>\n",
       "      <th>crime 1 - class</th>\n",
       "      <th>crime 2 - class</th>\n",
       "      <th>crime 3 - class</th>\n",
       "      <th>crime 4 - class</th>\n",
       "      <th>min_sentence</th>\n",
       "      <th>max_sentence</th>\n",
       "      <th>count of crimes</th>\n",
       "      <th>y</th>\n",
       "    </tr>\n",
       "  </thead>\n",
       "  <tbody>\n",
       "    <tr>\n",
       "      <th>0</th>\n",
       "      <td>2012</td>\n",
       "      <td>MALE</td>\n",
       "      <td>1981.0</td>\n",
       "      <td>BLACK</td>\n",
       "      <td>INITIAL</td>\n",
       "      <td>2003</td>\n",
       "      <td>2013.0</td>\n",
       "      <td>2012.0</td>\n",
       "      <td>B</td>\n",
       "      <td>E</td>\n",
       "      <td>NaN</td>\n",
       "      <td>NaN</td>\n",
       "      <td>0.0</td>\n",
       "      <td>11.0</td>\n",
       "      <td>2</td>\n",
       "      <td>0</td>\n",
       "    </tr>\n",
       "    <tr>\n",
       "      <th>1</th>\n",
       "      <td>2012</td>\n",
       "      <td>MALE</td>\n",
       "      <td>2056.0</td>\n",
       "      <td>BLACK</td>\n",
       "      <td>INITIAL</td>\n",
       "      <td>2004</td>\n",
       "      <td>2012.0</td>\n",
       "      <td>2012.0</td>\n",
       "      <td>C</td>\n",
       "      <td>NaN</td>\n",
       "      <td>NaN</td>\n",
       "      <td>NaN</td>\n",
       "      <td>8.0</td>\n",
       "      <td>10.0</td>\n",
       "      <td>1</td>\n",
       "      <td>0</td>\n",
       "    </tr>\n",
       "    <tr>\n",
       "      <th>2</th>\n",
       "      <td>2012</td>\n",
       "      <td>MALE</td>\n",
       "      <td>2059.0</td>\n",
       "      <td>WHITE</td>\n",
       "      <td>REAPPEAR</td>\n",
       "      <td>2005</td>\n",
       "      <td>2012.0</td>\n",
       "      <td>2008.0</td>\n",
       "      <td>E</td>\n",
       "      <td>E</td>\n",
       "      <td>NaN</td>\n",
       "      <td>NaN</td>\n",
       "      <td>4.0</td>\n",
       "      <td>4.0</td>\n",
       "      <td>2</td>\n",
       "      <td>0</td>\n",
       "    </tr>\n",
       "    <tr>\n",
       "      <th>3</th>\n",
       "      <td>2012</td>\n",
       "      <td>MALE</td>\n",
       "      <td>1981.0</td>\n",
       "      <td>BLACK</td>\n",
       "      <td>REAPPEAR</td>\n",
       "      <td>2009</td>\n",
       "      <td>2012.0</td>\n",
       "      <td>2010.0</td>\n",
       "      <td>D</td>\n",
       "      <td>NaN</td>\n",
       "      <td>NaN</td>\n",
       "      <td>NaN</td>\n",
       "      <td>2.0</td>\n",
       "      <td>6.0</td>\n",
       "      <td>1</td>\n",
       "      <td>0</td>\n",
       "    </tr>\n",
       "    <tr>\n",
       "      <th>4</th>\n",
       "      <td>2012</td>\n",
       "      <td>MALE</td>\n",
       "      <td>1971.0</td>\n",
       "      <td>BLACK</td>\n",
       "      <td>INITIAL</td>\n",
       "      <td>2010</td>\n",
       "      <td>2014.0</td>\n",
       "      <td>2012.0</td>\n",
       "      <td>D</td>\n",
       "      <td>D</td>\n",
       "      <td>D</td>\n",
       "      <td>NaN</td>\n",
       "      <td>6.0</td>\n",
       "      <td>7.0</td>\n",
       "      <td>3</td>\n",
       "      <td>0</td>\n",
       "    </tr>\n",
       "    <tr>\n",
       "      <th>...</th>\n",
       "      <td>...</td>\n",
       "      <td>...</td>\n",
       "      <td>...</td>\n",
       "      <td>...</td>\n",
       "      <td>...</td>\n",
       "      <td>...</td>\n",
       "      <td>...</td>\n",
       "      <td>...</td>\n",
       "      <td>...</td>\n",
       "      <td>...</td>\n",
       "      <td>...</td>\n",
       "      <td>...</td>\n",
       "      <td>...</td>\n",
       "      <td>...</td>\n",
       "      <td>...</td>\n",
       "      <td>...</td>\n",
       "    </tr>\n",
       "    <tr>\n",
       "      <th>31491</th>\n",
       "      <td>2016</td>\n",
       "      <td>MALE</td>\n",
       "      <td>1945.0</td>\n",
       "      <td>BLACK</td>\n",
       "      <td>REAPPEAR</td>\n",
       "      <td>1996</td>\n",
       "      <td>NaN</td>\n",
       "      <td>2004.0</td>\n",
       "      <td>B</td>\n",
       "      <td>NaN</td>\n",
       "      <td>NaN</td>\n",
       "      <td>NaN</td>\n",
       "      <td>10.0</td>\n",
       "      <td>99.0</td>\n",
       "      <td>1</td>\n",
       "      <td>0</td>\n",
       "    </tr>\n",
       "    <tr>\n",
       "      <th>31492</th>\n",
       "      <td>2016</td>\n",
       "      <td>MALE</td>\n",
       "      <td>1974.0</td>\n",
       "      <td>HISPANIC</td>\n",
       "      <td>INITIAL</td>\n",
       "      <td>1997</td>\n",
       "      <td>NaN</td>\n",
       "      <td>2016.0</td>\n",
       "      <td>A</td>\n",
       "      <td>NaN</td>\n",
       "      <td>NaN</td>\n",
       "      <td>NaN</td>\n",
       "      <td>22.0</td>\n",
       "      <td>99.0</td>\n",
       "      <td>1</td>\n",
       "      <td>0</td>\n",
       "    </tr>\n",
       "    <tr>\n",
       "      <th>31493</th>\n",
       "      <td>2016</td>\n",
       "      <td>MALE</td>\n",
       "      <td>1965.0</td>\n",
       "      <td>BLACK</td>\n",
       "      <td>REAPPEAR</td>\n",
       "      <td>1998</td>\n",
       "      <td>NaN</td>\n",
       "      <td>2014.0</td>\n",
       "      <td>A</td>\n",
       "      <td>C</td>\n",
       "      <td>D</td>\n",
       "      <td>NaN</td>\n",
       "      <td>25.0</td>\n",
       "      <td>99.0</td>\n",
       "      <td>3</td>\n",
       "      <td>0</td>\n",
       "    </tr>\n",
       "    <tr>\n",
       "      <th>31494</th>\n",
       "      <td>2016</td>\n",
       "      <td>MALE</td>\n",
       "      <td>1957.0</td>\n",
       "      <td>WHITE</td>\n",
       "      <td>REAPPEAR</td>\n",
       "      <td>1999</td>\n",
       "      <td>NaN</td>\n",
       "      <td>2008.0</td>\n",
       "      <td>E</td>\n",
       "      <td>B</td>\n",
       "      <td>D</td>\n",
       "      <td>D</td>\n",
       "      <td>10.0</td>\n",
       "      <td>20.0</td>\n",
       "      <td>4</td>\n",
       "      <td>0</td>\n",
       "    </tr>\n",
       "    <tr>\n",
       "      <th>31495</th>\n",
       "      <td>2016</td>\n",
       "      <td>MALE</td>\n",
       "      <td>1937.0</td>\n",
       "      <td>WHITE</td>\n",
       "      <td>MEDICAL</td>\n",
       "      <td>2014</td>\n",
       "      <td>NaN</td>\n",
       "      <td>NaN</td>\n",
       "      <td>C</td>\n",
       "      <td>NaN</td>\n",
       "      <td>NaN</td>\n",
       "      <td>NaN</td>\n",
       "      <td>0.0</td>\n",
       "      <td>5.0</td>\n",
       "      <td>1</td>\n",
       "      <td>1</td>\n",
       "    </tr>\n",
       "  </tbody>\n",
       "</table>\n",
       "<p>31496 rows × 16 columns</p>\n",
       "</div>"
      ],
      "text/plain": [
       "       parole board interview date   sex  birth date race / ethnicity  \\\n",
       "0                             2012  MALE      1981.0            BLACK   \n",
       "1                             2012  MALE      2056.0            BLACK   \n",
       "2                             2012  MALE      2059.0            WHITE   \n",
       "3                             2012  MALE      1981.0            BLACK   \n",
       "4                             2012  MALE      1971.0            BLACK   \n",
       "...                            ...   ...         ...              ...   \n",
       "31491                         2016  MALE      1945.0            BLACK   \n",
       "31492                         2016  MALE      1974.0         HISPANIC   \n",
       "31493                         2016  MALE      1965.0            BLACK   \n",
       "31494                         2016  MALE      1957.0            WHITE   \n",
       "31495                         2016  MALE      1937.0            WHITE   \n",
       "\n",
       "      parole board interview type  year of entry  release date  \\\n",
       "0                         INITIAL           2003        2013.0   \n",
       "1                         INITIAL           2004        2012.0   \n",
       "2                        REAPPEAR           2005        2012.0   \n",
       "3                        REAPPEAR           2009        2012.0   \n",
       "4                         INITIAL           2010        2014.0   \n",
       "...                           ...            ...           ...   \n",
       "31491                    REAPPEAR           1996           NaN   \n",
       "31492                     INITIAL           1997           NaN   \n",
       "31493                    REAPPEAR           1998           NaN   \n",
       "31494                    REAPPEAR           1999           NaN   \n",
       "31495                     MEDICAL           2014           NaN   \n",
       "\n",
       "       parole eligibility date crime 1 - class crime 2 - class  \\\n",
       "0                       2012.0               B               E   \n",
       "1                       2012.0               C             NaN   \n",
       "2                       2008.0               E               E   \n",
       "3                       2010.0               D             NaN   \n",
       "4                       2012.0               D               D   \n",
       "...                        ...             ...             ...   \n",
       "31491                   2004.0               B             NaN   \n",
       "31492                   2016.0               A             NaN   \n",
       "31493                   2014.0               A               C   \n",
       "31494                   2008.0               E               B   \n",
       "31495                      NaN               C             NaN   \n",
       "\n",
       "      crime 3 - class crime 4 - class  min_sentence  max_sentence  \\\n",
       "0                 NaN             NaN           0.0          11.0   \n",
       "1                 NaN             NaN           8.0          10.0   \n",
       "2                 NaN             NaN           4.0           4.0   \n",
       "3                 NaN             NaN           2.0           6.0   \n",
       "4                   D             NaN           6.0           7.0   \n",
       "...               ...             ...           ...           ...   \n",
       "31491             NaN             NaN          10.0          99.0   \n",
       "31492             NaN             NaN          22.0          99.0   \n",
       "31493               D             NaN          25.0          99.0   \n",
       "31494               D               D          10.0          20.0   \n",
       "31495             NaN             NaN           0.0           5.0   \n",
       "\n",
       "       count of crimes  y  \n",
       "0                    2  0  \n",
       "1                    1  0  \n",
       "2                    2  0  \n",
       "3                    1  0  \n",
       "4                    3  0  \n",
       "...                ... ..  \n",
       "31491                1  0  \n",
       "31492                1  0  \n",
       "31493                3  0  \n",
       "31494                4  0  \n",
       "31495                1  1  \n",
       "\n",
       "[31496 rows x 16 columns]"
      ]
     },
     "execution_count": 66,
     "metadata": {},
     "output_type": "execute_result"
    }
   ],
   "source": [
    "raw_data"
   ]
  },
  {
   "cell_type": "code",
   "execution_count": 67,
   "metadata": {},
   "outputs": [
    {
     "name": "stdout",
     "output_type": "stream",
     "text": [
      "[2012, 2013, 2014, 2015, 2016]\n",
      "[0.0, 0.0, 0.0, 0.0, 0.0]\n"
     ]
    },
    {
     "data": {
      "image/png": "[encoded data removed]",
      "text/plain": [
       "<Figure size 640x480 with 1 Axes>"
      ]
     },
     "metadata": {},
     "output_type": "display_data"
    },
    {
     "ename": "ValueError",
     "evalue": "DataFrame.dtypes for data must be int, float, bool or category. When categorical type is supplied, The experimental DMatrix parameter`enable_categorical` must be set to `True`.  Invalid columns:sex: object",
     "output_type": "error",
     "traceback": [
      "\u001b[1;31m---------------------------------------------------------------------------\u001b[0m",
      "\u001b[1;31mValueError\u001b[0m                                Traceback (most recent call last)",
      "\u001b[1;32mc:\\Users\\Joseph Moussa\\Desktop\\X\\4A\\Algorithm fairness and interpretability\\Interpretable-jimams\\notebooks\\fairness_tests.ipynb Cell 29\u001b[0m line \u001b[0;36m2\n\u001b[0;32m      <a href='vscode-notebook-cell:/c%3A/Users/Joseph%20Moussa/Desktop/X/4A/Algorithm%20fairness%20and%20interpretability/Interpretable-jimams/notebooks/fairness_tests.ipynb#X41sZmlsZQ%3D%3D?line=0'>1</a>\u001b[0m \u001b[39mfor\u001b[39;00m feature \u001b[39min\u001b[39;00m raw_data\u001b[39m.\u001b[39mdrop(\u001b[39m'\u001b[39m\u001b[39my\u001b[39m\u001b[39m'\u001b[39m, axis\u001b[39m=\u001b[39m\u001b[39m1\u001b[39m)\u001b[39m.\u001b[39mcolumns:\n\u001b[1;32m----> <a href='vscode-notebook-cell:/c%3A/Users/Joseph%20Moussa/Desktop/X/4A/Algorithm%20fairness%20and%20interpretability/Interpretable-jimams/notebooks/fairness_tests.ipynb#X41sZmlsZQ%3D%3D?line=1'>2</a>\u001b[0m     predict_chi_square(xgb_classifier, raw_data\u001b[39m.\u001b[39;49mdrop(\u001b[39m'\u001b[39;49m\u001b[39my\u001b[39;49m\u001b[39m'\u001b[39;49m, axis\u001b[39m=\u001b[39;49m\u001b[39m1\u001b[39;49m), feature, \u001b[39m'\u001b[39;49m\u001b[39msex\u001b[39;49m\u001b[39m'\u001b[39;49m)\n",
      "\u001b[1;32mc:\\Users\\Joseph Moussa\\Desktop\\X\\4A\\Algorithm fairness and interpretability\\Interpretable-jimams\\notebooks\\fairness_tests.ipynb Cell 29\u001b[0m line \u001b[0;36m1\n\u001b[0;32m     <a href='vscode-notebook-cell:/c%3A/Users/Joseph%20Moussa/Desktop/X/4A/Algorithm%20fairness%20and%20interpretability/Interpretable-jimams/notebooks/fairness_tests.ipynb#X41sZmlsZQ%3D%3D?line=9'>10</a>\u001b[0m \u001b[39mfor\u001b[39;00m value \u001b[39min\u001b[39;00m values:\n\u001b[0;32m     <a href='vscode-notebook-cell:/c%3A/Users/Joseph%20Moussa/Desktop/X/4A/Algorithm%20fairness%20and%20interpretability/Interpretable-jimams/notebooks/fairness_tests.ipynb#X41sZmlsZQ%3D%3D?line=10'>11</a>\u001b[0m     \u001b[39mif\u001b[39;00m \u001b[39mnot\u001b[39;00m(\u001b[39mstr\u001b[39m(value) \u001b[39m==\u001b[39m \u001b[39m'\u001b[39m\u001b[39mnan\u001b[39m\u001b[39m'\u001b[39m):\n\u001b[1;32m---> <a href='vscode-notebook-cell:/c%3A/Users/Joseph%20Moussa/Desktop/X/4A/Algorithm%20fairness%20and%20interpretability/Interpretable-jimams/notebooks/fairness_tests.ipynb#X41sZmlsZQ%3D%3D?line=11'>12</a>\u001b[0m         p_value \u001b[39m=\u001b[39m replace_predict_chi_square(model, X, column, protected_column, value)\n\u001b[0;32m     <a href='vscode-notebook-cell:/c%3A/Users/Joseph%20Moussa/Desktop/X/4A/Algorithm%20fairness%20and%20interpretability/Interpretable-jimams/notebooks/fairness_tests.ipynb#X41sZmlsZQ%3D%3D?line=12'>13</a>\u001b[0m         p_values\u001b[39m.\u001b[39mappend(p_value)\n\u001b[0;32m     <a href='vscode-notebook-cell:/c%3A/Users/Joseph%20Moussa/Desktop/X/4A/Algorithm%20fairness%20and%20interpretability/Interpretable-jimams/notebooks/fairness_tests.ipynb#X41sZmlsZQ%3D%3D?line=13'>14</a>\u001b[0m         values_final\u001b[39m.\u001b[39mappend(value)\n",
      "\u001b[1;32mc:\\Users\\Joseph Moussa\\Desktop\\X\\4A\\Algorithm fairness and interpretability\\Interpretable-jimams\\notebooks\\fairness_tests.ipynb Cell 29\u001b[0m line \u001b[0;36m1\n\u001b[0;32m      <a href='vscode-notebook-cell:/c%3A/Users/Joseph%20Moussa/Desktop/X/4A/Algorithm%20fairness%20and%20interpretability/Interpretable-jimams/notebooks/fairness_tests.ipynb#X41sZmlsZQ%3D%3D?line=7'>8</a>\u001b[0m \u001b[39melse\u001b[39;00m:\n\u001b[0;32m      <a href='vscode-notebook-cell:/c%3A/Users/Joseph%20Moussa/Desktop/X/4A/Algorithm%20fairness%20and%20interpretability/Interpretable-jimams/notebooks/fairness_tests.ipynb#X41sZmlsZQ%3D%3D?line=8'>9</a>\u001b[0m     X_copied[column] \u001b[39m=\u001b[39m value\n\u001b[1;32m---> <a href='vscode-notebook-cell:/c%3A/Users/Joseph%20Moussa/Desktop/X/4A/Algorithm%20fairness%20and%20interpretability/Interpretable-jimams/notebooks/fairness_tests.ipynb#X41sZmlsZQ%3D%3D?line=9'>10</a>\u001b[0m y_pred \u001b[39m=\u001b[39m model\u001b[39m.\u001b[39;49mpredict(X_copied)\n\u001b[0;32m     <a href='vscode-notebook-cell:/c%3A/Users/Joseph%20Moussa/Desktop/X/4A/Algorithm%20fairness%20and%20interpretability/Interpretable-jimams/notebooks/fairness_tests.ipynb#X41sZmlsZQ%3D%3D?line=10'>11</a>\u001b[0m contingency_table \u001b[39m=\u001b[39m pd\u001b[39m.\u001b[39mcrosstab(X\u001b[39m.\u001b[39mloc[X_copied\u001b[39m.\u001b[39mindex][protected_column], y_pred)\n\u001b[0;32m     <a href='vscode-notebook-cell:/c%3A/Users/Joseph%20Moussa/Desktop/X/4A/Algorithm%20fairness%20and%20interpretability/Interpretable-jimams/notebooks/fairness_tests.ipynb#X41sZmlsZQ%3D%3D?line=11'>12</a>\u001b[0m chi2, p, a, b \u001b[39m=\u001b[39m chi2_contingency(contingency_table)\n",
      "File \u001b[1;32mc:\\Users\\Joseph Moussa\\anaconda3\\lib\\site-packages\\xgboost\\sklearn.py:1549\u001b[0m, in \u001b[0;36mXGBClassifier.predict\u001b[1;34m(self, X, output_margin, validate_features, base_margin, iteration_range)\u001b[0m\n\u001b[0;32m   1540\u001b[0m \u001b[39mdef\u001b[39;00m \u001b[39mpredict\u001b[39m(\n\u001b[0;32m   1541\u001b[0m     \u001b[39mself\u001b[39m,\n\u001b[0;32m   1542\u001b[0m     X: ArrayLike,\n\u001b[1;32m   (...)\u001b[0m\n\u001b[0;32m   1546\u001b[0m     iteration_range: Optional[Tuple[\u001b[39mint\u001b[39m, \u001b[39mint\u001b[39m]] \u001b[39m=\u001b[39m \u001b[39mNone\u001b[39;00m,\n\u001b[0;32m   1547\u001b[0m ) \u001b[39m-\u001b[39m\u001b[39m>\u001b[39m ArrayLike:\n\u001b[0;32m   1548\u001b[0m     \u001b[39mwith\u001b[39;00m config_context(verbosity\u001b[39m=\u001b[39m\u001b[39mself\u001b[39m\u001b[39m.\u001b[39mverbosity):\n\u001b[1;32m-> 1549\u001b[0m         class_probs \u001b[39m=\u001b[39m \u001b[39msuper\u001b[39;49m()\u001b[39m.\u001b[39;49mpredict(\n\u001b[0;32m   1550\u001b[0m             X\u001b[39m=\u001b[39;49mX,\n\u001b[0;32m   1551\u001b[0m             output_margin\u001b[39m=\u001b[39;49moutput_margin,\n\u001b[0;32m   1552\u001b[0m             validate_features\u001b[39m=\u001b[39;49mvalidate_features,\n\u001b[0;32m   1553\u001b[0m             base_margin\u001b[39m=\u001b[39;49mbase_margin,\n\u001b[0;32m   1554\u001b[0m             iteration_range\u001b[39m=\u001b[39;49miteration_range,\n\u001b[0;32m   1555\u001b[0m         )\n\u001b[0;32m   1556\u001b[0m         \u001b[39mif\u001b[39;00m output_margin:\n\u001b[0;32m   1557\u001b[0m             \u001b[39m# If output_margin is active, simply return the scores\u001b[39;00m\n\u001b[0;32m   1558\u001b[0m             \u001b[39mreturn\u001b[39;00m class_probs\n",
      "File \u001b[1;32mc:\\Users\\Joseph Moussa\\anaconda3\\lib\\site-packages\\xgboost\\sklearn.py:1164\u001b[0m, in \u001b[0;36mXGBModel.predict\u001b[1;34m(self, X, output_margin, validate_features, base_margin, iteration_range)\u001b[0m\n\u001b[0;32m   1162\u001b[0m \u001b[39mif\u001b[39;00m \u001b[39mself\u001b[39m\u001b[39m.\u001b[39m_can_use_inplace_predict():\n\u001b[0;32m   1163\u001b[0m     \u001b[39mtry\u001b[39;00m:\n\u001b[1;32m-> 1164\u001b[0m         predts \u001b[39m=\u001b[39m \u001b[39mself\u001b[39;49m\u001b[39m.\u001b[39;49mget_booster()\u001b[39m.\u001b[39;49minplace_predict(\n\u001b[0;32m   1165\u001b[0m             data\u001b[39m=\u001b[39;49mX,\n\u001b[0;32m   1166\u001b[0m             iteration_range\u001b[39m=\u001b[39;49miteration_range,\n\u001b[0;32m   1167\u001b[0m             predict_type\u001b[39m=\u001b[39;49m\u001b[39m\"\u001b[39;49m\u001b[39mmargin\u001b[39;49m\u001b[39m\"\u001b[39;49m \u001b[39mif\u001b[39;49;00m output_margin \u001b[39melse\u001b[39;49;00m \u001b[39m\"\u001b[39;49m\u001b[39mvalue\u001b[39;49m\u001b[39m\"\u001b[39;49m,\n\u001b[0;32m   1168\u001b[0m             missing\u001b[39m=\u001b[39;49m\u001b[39mself\u001b[39;49m\u001b[39m.\u001b[39;49mmissing,\n\u001b[0;32m   1169\u001b[0m             base_margin\u001b[39m=\u001b[39;49mbase_margin,\n\u001b[0;32m   1170\u001b[0m             validate_features\u001b[39m=\u001b[39;49mvalidate_features,\n\u001b[0;32m   1171\u001b[0m         )\n\u001b[0;32m   1172\u001b[0m         \u001b[39mif\u001b[39;00m _is_cupy_array(predts):\n\u001b[0;32m   1173\u001b[0m             \u001b[39mimport\u001b[39;00m \u001b[39mcupy\u001b[39;00m  \u001b[39m# pylint: disable=import-error\u001b[39;00m\n",
      "File \u001b[1;32mc:\\Users\\Joseph Moussa\\anaconda3\\lib\\site-packages\\xgboost\\core.py:2415\u001b[0m, in \u001b[0;36mBooster.inplace_predict\u001b[1;34m(self, data, iteration_range, predict_type, missing, validate_features, base_margin, strict_shape)\u001b[0m\n\u001b[0;32m   2413\u001b[0m     data \u001b[39m=\u001b[39m pd\u001b[39m.\u001b[39mDataFrame(data)\n\u001b[0;32m   2414\u001b[0m \u001b[39mif\u001b[39;00m _is_pandas_df(data):\n\u001b[1;32m-> 2415\u001b[0m     data, fns, _ \u001b[39m=\u001b[39m _transform_pandas_df(data, enable_categorical)\n\u001b[0;32m   2416\u001b[0m     \u001b[39mif\u001b[39;00m validate_features:\n\u001b[0;32m   2417\u001b[0m         \u001b[39mself\u001b[39m\u001b[39m.\u001b[39m_validate_features(fns)\n",
      "File \u001b[1;32mc:\\Users\\Joseph Moussa\\anaconda3\\lib\\site-packages\\xgboost\\data.py:490\u001b[0m, in \u001b[0;36m_transform_pandas_df\u001b[1;34m(data, enable_categorical, feature_names, feature_types, meta, meta_type)\u001b[0m\n\u001b[0;32m    483\u001b[0m \u001b[39mfor\u001b[39;00m dtype \u001b[39min\u001b[39;00m data\u001b[39m.\u001b[39mdtypes:\n\u001b[0;32m    484\u001b[0m     \u001b[39mif\u001b[39;00m \u001b[39mnot\u001b[39;00m (\n\u001b[0;32m    485\u001b[0m         (dtype\u001b[39m.\u001b[39mname \u001b[39min\u001b[39;00m _pandas_dtype_mapper)\n\u001b[0;32m    486\u001b[0m         \u001b[39mor\u001b[39;00m is_pd_sparse_dtype(dtype)\n\u001b[0;32m    487\u001b[0m         \u001b[39mor\u001b[39;00m (is_pd_cat_dtype(dtype) \u001b[39mand\u001b[39;00m enable_categorical)\n\u001b[0;32m    488\u001b[0m         \u001b[39mor\u001b[39;00m is_pa_ext_dtype(dtype)\n\u001b[0;32m    489\u001b[0m     ):\n\u001b[1;32m--> 490\u001b[0m         _invalid_dataframe_dtype(data)\n\u001b[0;32m    491\u001b[0m     \u001b[39mif\u001b[39;00m is_pa_ext_dtype(dtype):\n\u001b[0;32m    492\u001b[0m         pyarrow_extension \u001b[39m=\u001b[39m \u001b[39mTrue\u001b[39;00m\n",
      "File \u001b[1;32mc:\\Users\\Joseph Moussa\\anaconda3\\lib\\site-packages\\xgboost\\data.py:308\u001b[0m, in \u001b[0;36m_invalid_dataframe_dtype\u001b[1;34m(data)\u001b[0m\n\u001b[0;32m    306\u001b[0m type_err \u001b[39m=\u001b[39m \u001b[39m\"\u001b[39m\u001b[39mDataFrame.dtypes for data must be int, float, bool or category.\u001b[39m\u001b[39m\"\u001b[39m\n\u001b[0;32m    307\u001b[0m msg \u001b[39m=\u001b[39m \u001b[39mf\u001b[39m\u001b[39m\"\"\"\u001b[39m\u001b[39m{\u001b[39;00mtype_err\u001b[39m}\u001b[39;00m\u001b[39m \u001b[39m\u001b[39m{\u001b[39;00m_ENABLE_CAT_ERR\u001b[39m}\u001b[39;00m\u001b[39m \u001b[39m\u001b[39m{\u001b[39;00merr\u001b[39m}\u001b[39;00m\u001b[39m\"\"\"\u001b[39m\n\u001b[1;32m--> 308\u001b[0m \u001b[39mraise\u001b[39;00m \u001b[39mValueError\u001b[39;00m(msg)\n",
      "\u001b[1;31mValueError\u001b[0m: DataFrame.dtypes for data must be int, float, bool or category. When categorical type is supplied, The experimental DMatrix parameter`enable_categorical` must be set to `True`.  Invalid columns:sex: object"
     ]
    }
   ],
   "source": [
    "for feature in raw_data.drop('y', axis=1).columns:\n",
    "    predict_chi_square(xgb_classifier, raw_data.drop('y', axis=1), feature, 'sex')"
   ]
  },
  {
   "cell_type": "code",
   "execution_count": null,
   "metadata": {},
   "outputs": [],
   "source": []
  }
 ],
 "metadata": {
  "kernelspec": {
   "display_name": "base",
   "language": "python",
   "name": "python3"
  },
  "language_info": {
   "codemirror_mode": {
    "name": "ipython",
    "version": 3
   },
   "file_extension": ".py",
   "mimetype": "text/x-python",
   "name": "python",
   "nbconvert_exporter": "python",
   "pygments_lexer": "ipython3",
   "version": "3.8.8"
  }
 },
 "nbformat": 4,
 "nbformat_minor": 2
}
