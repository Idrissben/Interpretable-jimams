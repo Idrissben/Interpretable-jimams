{
 "cells": [
  {
   "cell_type": "code",
   "execution_count": 5,
   "metadata": {},
   "outputs": [],
   "source": [
    "from pdpbox import pdp\n",
    "import pickle\n",
    "from sklearn.model_selection import train_test_split\n",
    "import pandas as pd\n"
   ]
  },
  {
   "cell_type": "code",
   "execution_count": 6,
   "metadata": {},
   "outputs": [],
   "source": [
    "raw_data = pd.read_csv(\"../data/data_clean.csv\")\n",
    "data = raw_data[raw_data['birth date'] < 2020].copy()\n",
    "\n",
    "data['age'] = data['parole board interview date'] - data['birth date']\n",
    "data['jail duration'] = data['parole board interview date'] - data['year of entry']\n",
    "\n",
    "others_parole_type =  ['PIE', 'SP CONSDR', 'ECPDO', 'MEDICAL','RESCISSION', 'DEPORT']\n",
    "data['parole board interview type'] = data['parole board interview type'].replace(others_parole_type, 'OTHERS').replace('SUPP MERIT', 'MERIT TIME').replace('PV REAPP', 'REAPPEAR')\n",
    "\n",
    "data = data.dropna(axis=0, subset=['crime 1 - class', 'parole eligibility date'])\n",
    "\n",
    "df_one_hot = pd.get_dummies(data, columns=[\n",
    "    \"sex\", \"race / ethnicity\"], drop_first=True)\n",
    "\n",
    "df_one_hot = pd.get_dummies(df_one_hot, columns=[\n",
    "    \"crime 1 - class\", \"crime 2 - class\",\n",
    "    \"crime 3 - class\", \"crime 4 - class\",\n",
    "    \"parole board interview type\"])\n",
    "\n",
    "df_one_hot.drop(columns=['release date','birth date', 'year of entry'],inplace=True)\n",
    "\n",
    "X_train, X_test, y_train, y_test = train_test_split(df_one_hot.drop('y',axis=1), df_one_hot['y'], \n",
    "                                                    stratify=df_one_hot['y'], test_size=0.3, random_state=42)"
   ]
  },
  {
   "cell_type": "code",
   "execution_count": 9,
   "metadata": {},
   "outputs": [],
   "source": [
    "# Load the model from the .pkl file\n",
    "xgb_classifier = pickle.load(open(\"../model.pkl\", \"rb\"))\n"
   ]
  },
  {
   "cell_type": "code",
   "execution_count": 8,
   "metadata": {},
   "outputs": [
    {
     "ename": "AttributeError",
     "evalue": "'XGBClassifier' object has no attribute 'feature_names'",
     "output_type": "error",
     "traceback": [
      "\u001b[1;31m---------------------------------------------------------------------------\u001b[0m",
      "\u001b[1;31mAttributeError\u001b[0m                            Traceback (most recent call last)",
      "\u001b[1;32mc:\\Users\\ibenn\\Desktop\\DSB\\Year 2 HEC\\Interpretable-jimams\\notebooks\\global_interpretability.ipynb Cell 3\u001b[0m line \u001b[0;36m5\n\u001b[0;32m      <a href='vscode-notebook-cell:/c%3A/Users/ibenn/Desktop/DSB/Year%202%20HEC/Interpretable-jimams/notebooks/global_interpretability.ipynb#W2sZmlsZQ%3D%3D?line=1'>2</a>\u001b[0m xgb_classifier \u001b[39m=\u001b[39m pickle\u001b[39m.\u001b[39mload(\u001b[39mopen\u001b[39m(\u001b[39m\"\u001b[39m\u001b[39m../model.pkl\u001b[39m\u001b[39m\"\u001b[39m, \u001b[39m\"\u001b[39m\u001b[39mrb\u001b[39m\u001b[39m\"\u001b[39m))\n\u001b[0;32m      <a href='vscode-notebook-cell:/c%3A/Users/ibenn/Desktop/DSB/Year%202%20HEC/Interpretable-jimams/notebooks/global_interpretability.ipynb#W2sZmlsZQ%3D%3D?line=3'>4</a>\u001b[0m \u001b[39m# Assume you are interested in the feature at index 5\u001b[39;00m\n\u001b[1;32m----> <a href='vscode-notebook-cell:/c%3A/Users/ibenn/Desktop/DSB/Year%202%20HEC/Interpretable-jimams/notebooks/global_interpretability.ipynb#W2sZmlsZQ%3D%3D?line=4'>5</a>\u001b[0m feature_name \u001b[39m=\u001b[39m xgb_classifier\u001b[39m.\u001b[39;49mfeature_names[\u001b[39m5\u001b[39m]\n\u001b[0;32m      <a href='vscode-notebook-cell:/c%3A/Users/ibenn/Desktop/DSB/Year%202%20HEC/Interpretable-jimams/notebooks/global_interpretability.ipynb#W2sZmlsZQ%3D%3D?line=6'>7</a>\u001b[0m \u001b[39m# Create the partial dependence plot\u001b[39;00m\n\u001b[0;32m      <a href='vscode-notebook-cell:/c%3A/Users/ibenn/Desktop/DSB/Year%202%20HEC/Interpretable-jimams/notebooks/global_interpretability.ipynb#W2sZmlsZQ%3D%3D?line=7'>8</a>\u001b[0m pdp_iso \u001b[39m=\u001b[39m pdp\u001b[39m.\u001b[39mpdp_isolate(\n\u001b[0;32m      <a href='vscode-notebook-cell:/c%3A/Users/ibenn/Desktop/DSB/Year%202%20HEC/Interpretable-jimams/notebooks/global_interpretability.ipynb#W2sZmlsZQ%3D%3D?line=8'>9</a>\u001b[0m     model\u001b[39m=\u001b[39mxgb_classifier, dataset\u001b[39m=\u001b[39mpd\u001b[39m.\u001b[39mDataFrame(X_train, columns\u001b[39m=\u001b[39mxgb_classifier\u001b[39m.\u001b[39mfeature_names), \n\u001b[0;32m     <a href='vscode-notebook-cell:/c%3A/Users/ibenn/Desktop/DSB/Year%202%20HEC/Interpretable-jimams/notebooks/global_interpretability.ipynb#W2sZmlsZQ%3D%3D?line=9'>10</a>\u001b[0m     model_features\u001b[39m=\u001b[39mxgb_classifier\u001b[39m.\u001b[39mfeature_names, feature\u001b[39m=\u001b[39mfeature_name)\n",
      "\u001b[1;31mAttributeError\u001b[0m: 'XGBClassifier' object has no attribute 'feature_names'"
     ]
    }
   ],
   "source": [
    "# Load the model from the .pkl file\n",
    "xgb_classifier = pickle.load(open(\"../model.pkl\", \"rb\"))\n",
    "\n",
    "# Assume you are interested in the feature at index 5\n",
    "feature_name = xgb_classifier.feature_names[5]\n",
    "\n",
    "# Create the partial dependence plot\n",
    "pdp_iso = pdp.pdp_isolate(\n",
    "    model=xgb_classifier, dataset=pd.DataFrame(X_train, columns=xgb_classifier.feature_names), \n",
    "    model_features=xgb_classifier.feature_names, feature=feature_name)\n",
    "\n",
    "# plot it\n",
    "fig, axes = pdp.pdp_plot(pdp_iso, feature_name, plot_lines=True, frac_to_plot=100)"
   ]
  }
 ],
 "metadata": {
  "kernelspec": {
   "display_name": ".venv",
   "language": "python",
   "name": "python3"
  },
  "language_info": {
   "codemirror_mode": {
    "name": "ipython",
    "version": 3
   },
   "file_extension": ".py",
   "mimetype": "text/x-python",
   "name": "python",
   "nbconvert_exporter": "python",
   "pygments_lexer": "ipython3",
   "version": "3.11.5"
  }
 },
 "nbformat": 4,
 "nbformat_minor": 2
}
