{
 "cells": [
  {
   "cell_type": "code",
   "execution_count": 1,
   "metadata": {},
   "outputs": [],
   "source": [
    "import pandas as pd\n",
    "import xgboost as xgb\n",
    "from sklearn.model_selection import train_test_split\n",
    "from sklearn.metrics import accuracy_score, balanced_accuracy_score, roc_auc_score, f1_score\n",
    "from sklearn.model_selection import GridSearchCV\n",
    "import seaborn as sns\n",
    "import numpy as np\n",
    "import pickle\n",
    "import matplotlib.pyplot as plt"
   ]
  },
  {
   "cell_type": "code",
   "execution_count": 4,
   "metadata": {},
   "outputs": [],
   "source": [
    "raw_data = pd.read_csv(\"../../data_clean.csv\")\n",
    "data = raw_data[raw_data['birth date'] < 2020].copy()\n",
    "\n",
    "data['age'] = data['parole board interview date'] - data['birth date']\n",
    "data['jail duration'] = data['parole board interview date'] - data['year of entry']\n",
    "\n",
    "others_parole_type =  ['PIE', 'SP CONSDR', 'ECPDO', 'MEDICAL','RESCISSION', 'DEPORT']\n",
    "data['parole board interview type'] = data['parole board interview type'].replace(others_parole_type, 'OTHERS').replace('SUPP MERIT', 'MERIT TIME').replace('PV REAPP', 'REAPPEAR')\n",
    "\n",
    "data = data.dropna(axis=0, subset=['crime 1 - class', 'parole eligibility date'])\n",
    "data = data.drop(columns={\"sex\", \"race / ethnicity\"})\n",
    "\n",
    "df_one_hot = pd.get_dummies(data, columns=[\n",
    "    \"crime 1 - class\", \"crime 2 - class\",\n",
    "    \"crime 3 - class\", \"crime 4 - class\",\n",
    "    \"parole board interview type\"])\n",
    "\n",
    "df_one_hot.drop(columns=['release date','birth date', 'year of entry'],inplace=True)\n",
    "\n",
    "X_train, X_test, y_train, y_test = train_test_split(df_one_hot.drop('y',axis=1), df_one_hot['y'], \n",
    "                                                    stratify=df_one_hot['y'], test_size=0.3, random_state=42)"
   ]
  },
  {
   "cell_type": "code",
   "execution_count": 5,
   "metadata": {},
   "outputs": [
    {
     "name": "stdout",
     "output_type": "stream",
     "text": [
      "Training Metrics:\n",
      "Accuracy: 0.69\n",
      "Balanced Accuracy: 0.72\n",
      "ROC AUC: 0.72\n",
      "F1 Score: 0.50\n",
      "\n",
      "Test Metrics:\n",
      "Accuracy: 0.66\n",
      "Balanced Accuracy: 0.68\n",
      "ROC AUC: 0.68\n",
      "F1 Score: 0.46\n"
     ]
    }
   ],
   "source": [
    "# Create and configure the XGBoost classifier with balanced class weights\n",
    "param_grid = {\n",
    "    'n_estimators': [200, 500, 1000],\n",
    "    'max_depth': [3, 5, 10],\n",
    "    'learning_rate': [1e-2, 0.1]\n",
    "}\n",
    "\n",
    "class_weights = len(y_train) / (2 * np.bincount(y_train))\n",
    "\n",
    "# Define base estimator (XGB Classifier)\n",
    "xgb = xgb.XGBClassifier(\n",
    "    objective='binary:logistic',\n",
    "    scale_pos_weight=class_weights[1] / class_weights[0],\n",
    "    random_state=42\n",
    ")\n",
    "\n",
    "# Define GridSearchCV\n",
    "grid_search = GridSearchCV(estimator=xgb, param_grid=param_grid, cv=5, scoring='f1')\n",
    "\n",
    "# Fit the GridSearch on the training data and select the best estimator\n",
    "grid_search.fit(X_train, y_train)\n",
    "xgb_classifier = grid_search.best_estimator_\n",
    "\n",
    "# Make predictions on both the training and test datasets\n",
    "train_predictions = xgb_classifier.predict(X_train)\n",
    "test_predictions = xgb_classifier.predict(X_test)\n",
    "\n",
    "# Calculate evaluation metrics for the training dataset\n",
    "train_accuracy = accuracy_score(y_train, train_predictions)\n",
    "train_balanced_accuracy = balanced_accuracy_score(y_train, train_predictions)\n",
    "train_roc_auc = roc_auc_score(y_train, train_predictions)\n",
    "train_f1 = f1_score(y_train, train_predictions)\n",
    "\n",
    "# Calculate evaluation metrics for the test dataset\n",
    "test_accuracy = accuracy_score(y_test, test_predictions)\n",
    "test_balanced_accuracy = balanced_accuracy_score(y_test, test_predictions)\n",
    "test_roc_auc = roc_auc_score(y_test, test_predictions)\n",
    "test_f1 = f1_score(y_test, test_predictions)\n",
    "\n",
    "# Print the evaluation metrics\n",
    "print(\"Training Metrics:\")\n",
    "print(f\"Accuracy: {train_accuracy:.2f}\")\n",
    "print(f\"Balanced Accuracy: {train_balanced_accuracy:.2f}\")\n",
    "print(f\"ROC AUC: {train_roc_auc:.2f}\")\n",
    "print(f\"F1 Score: {train_f1:.2f}\")\n",
    "print(\"\\nTest Metrics:\")\n",
    "print(f\"Accuracy: {test_accuracy:.2f}\")\n",
    "print(f\"Balanced Accuracy: {test_balanced_accuracy:.2f}\")\n",
    "print(f\"ROC AUC: {test_roc_auc:.2f}\")\n",
    "print(f\"F1 Score: {test_f1:.2f}\")"
   ]
  }
 ],
 "metadata": {
  "kernelspec": {
   "display_name": "base",
   "language": "python",
   "name": "python3"
  },
  "language_info": {
   "codemirror_mode": {
    "name": "ipython",
    "version": 3
   },
   "file_extension": ".py",
   "mimetype": "text/x-python",
   "name": "python",
   "nbconvert_exporter": "python",
   "pygments_lexer": "ipython3",
   "version": "3.8.8"
  }
 },
 "nbformat": 4,
 "nbformat_minor": 2
}
