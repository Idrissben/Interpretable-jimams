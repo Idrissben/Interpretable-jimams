{
 "cells": [
  {
   "cell_type": "code",
   "execution_count": 1,
   "metadata": {},
   "outputs": [],
   "source": [
    "import pandas as pd\n",
    "import xgboost as xgb\n",
    "from sklearn.model_selection import train_test_split\n",
    "from sklearn.dummy import DummyClassifier\n",
    "from sklearn.metrics import accuracy_score, balanced_accuracy_score, roc_auc_score, f1_score\n",
    "from sklearn.model_selection import GridSearchCV\n",
    "import seaborn as sns\n",
    "import numpy as np\n",
    "import matplotlib.pyplot as plt"
   ]
  },
  {
   "cell_type": "markdown",
   "metadata": {},
   "source": [
    "### Data Preprocessing"
   ]
  },
  {
   "cell_type": "code",
   "execution_count": 2,
   "metadata": {},
   "outputs": [],
   "source": [
    "raw_data = pd.read_csv(\"../data/data_clean.csv\")\n",
    "data = raw_data[raw_data['birth date'] < 2020].copy()\n",
    "\n",
    "data['age'] = data['parole board interview date'] - data['birth date']\n",
    "data['jail duration'] = data['parole board interview date'] - data['year of entry']\n",
    "\n",
    "others_parole_type =  ['PIE', 'SP CONSDR', 'ECPDO', 'MEDICAL','RESCISSION', 'DEPORT']\n",
    "data['parole board interview type'] = data['parole board interview type'].replace(others_parole_type, 'OTHERS').replace('SUPP MERIT', 'MERIT TIME').replace('PV REAPP', 'REAPPEAR')\n",
    "\n",
    "data = data.dropna(axis=0, subset=['crime 1 - class', 'parole eligibility date'])\n",
    "\n",
    "df_one_hot = pd.get_dummies(data, columns=[\n",
    "    \"sex\", \"race / ethnicity\"], drop_first=True)\n",
    "\n",
    "df_one_hot = pd.get_dummies(df_one_hot, columns=[\n",
    "    \"crime 1 - class\", \"crime 2 - class\",\n",
    "    \"crime 3 - class\", \"crime 4 - class\",\n",
    "    \"parole board interview type\"])\n",
    "\n",
    "df_one_hot.drop(columns=['release date','birth date', 'year of entry'],inplace=True)\n",
    "\n",
    "X_train, X_test, y_train, y_test = train_test_split(df_one_hot.drop('y',axis=1), df_one_hot['y'], \n",
    "                                                    stratify=df_one_hot['y'], test_size=0.3, random_state=42)"
   ]
  },
  {
   "cell_type": "code",
   "execution_count": 3,
   "metadata": {},
   "outputs": [
    {
     "data": {
      "text/plain": [
       "y\n",
       "0    16818\n",
       "1     4291\n",
       "Name: count, dtype: int64"
      ]
     },
     "execution_count": 3,
     "metadata": {},
     "output_type": "execute_result"
    }
   ],
   "source": [
    "y_train.value_counts()"
   ]
  },
  {
   "cell_type": "markdown",
   "metadata": {},
   "source": [
    "### Dummy Classifier"
   ]
  },
  {
   "cell_type": "code",
   "execution_count": 4,
   "metadata": {},
   "outputs": [
    {
     "name": "stdout",
     "output_type": "stream",
     "text": [
      "Training Metrics:\n",
      "Accuracy: 0.80\n",
      "Balanced Accuracy: 0.50\n",
      "ROC AUC: 0.50\n",
      "F1 Score: 0.00\n",
      "\n",
      "Test Metrics:\n",
      "Accuracy: 0.80\n",
      "Balanced Accuracy: 0.50\n",
      "ROC AUC: 0.50\n",
      "F1 Score: 0.00\n"
     ]
    }
   ],
   "source": [
    "# Create a DummyClassifier\n",
    "dummy_classifier = DummyClassifier(strategy='most_frequent')\n",
    "\n",
    "# Fit the DummyClassifier on the training data\n",
    "dummy_classifier.fit(X_train, y_train)\n",
    "\n",
    "# Make predictions on both the training and test datasets\n",
    "train_predictions = dummy_classifier.predict(X_train)\n",
    "test_predictions = dummy_classifier.predict(X_test)\n",
    "\n",
    "# Calculate evaluation metrics for the training dataset\n",
    "train_accuracy = accuracy_score(y_train, train_predictions)\n",
    "train_balanced_accuracy = balanced_accuracy_score(y_train, train_predictions)\n",
    "train_roc_auc = roc_auc_score(y_train, train_predictions)\n",
    "train_f1 = f1_score(y_train, train_predictions)\n",
    "\n",
    "# Calculate evaluation metrics for the test dataset\n",
    "test_accuracy = accuracy_score(y_test, test_predictions)\n",
    "test_balanced_accuracy = balanced_accuracy_score(y_test, test_predictions)\n",
    "test_roc_auc = roc_auc_score(y_test, test_predictions)\n",
    "test_f1 = f1_score(y_test, test_predictions)\n",
    "\n",
    "# Print the evaluation metrics\n",
    "print(\"Training Metrics:\")\n",
    "print(f\"Accuracy: {train_accuracy:.2f}\")\n",
    "print(f\"Balanced Accuracy: {train_balanced_accuracy:.2f}\")\n",
    "print(f\"ROC AUC: {train_roc_auc:.2f}\")\n",
    "print(f\"F1 Score: {train_f1:.2f}\")\n",
    "print(\"\\nTest Metrics:\")\n",
    "print(f\"Accuracy: {test_accuracy:.2f}\")\n",
    "print(f\"Balanced Accuracy: {test_balanced_accuracy:.2f}\")\n",
    "print(f\"ROC AUC: {test_roc_auc:.2f}\")\n",
    "print(f\"F1 Score: {test_f1:.2f}\")"
   ]
  },
  {
   "cell_type": "markdown",
   "metadata": {},
   "source": [
    "### XGBoost"
   ]
  },
  {
   "cell_type": "code",
   "execution_count": 5,
   "metadata": {},
   "outputs": [
    {
     "name": "stdout",
     "output_type": "stream",
     "text": [
      "Training Metrics:\n",
      "Accuracy: 0.68\n",
      "Balanced Accuracy: 0.71\n",
      "ROC AUC: 0.71\n",
      "F1 Score: 0.49\n",
      "\n",
      "Test Metrics:\n",
      "Accuracy: 0.67\n",
      "Balanced Accuracy: 0.68\n",
      "ROC AUC: 0.68\n",
      "F1 Score: 0.46\n"
     ]
    }
   ],
   "source": [
    "# Create and configure the XGBoost classifier with balanced class weights\n",
    "param_grid = {\n",
    "    'n_estimators': [50, 100, 200, 500],\n",
    "    'max_depth': [3, 5, 10],\n",
    "    'learning_rate': [1e-3, 1e-2, 0.1, 0.5]\n",
    "}\n",
    "\n",
    "class_weights = len(y_train) / (2 * np.bincount(y_train))\n",
    "\n",
    "# Define base estimator (XGB Classifier)\n",
    "xgb = xgb.XGBClassifier(\n",
    "    objective='binary:logistic',\n",
    "    scale_pos_weight=class_weights[1] / class_weights[0],\n",
    "    random_state=42\n",
    ")\n",
    "\n",
    "# Define GridSearchCV\n",
    "grid_search = GridSearchCV(estimator=xgb, param_grid=param_grid, cv=5, scoring='roc_auc')\n",
    "\n",
    "# Fit the GridSearch on the training data and select the best estimator\n",
    "grid_search.fit(X_train, y_train)\n",
    "xgb_classifier = grid_search.best_estimator_\n",
    "\n",
    "# Make predictions on both the training and test datasets\n",
    "train_predictions = xgb_classifier.predict(X_train)\n",
    "test_predictions = xgb_classifier.predict(X_test)\n",
    "\n",
    "# Calculate evaluation metrics for the training dataset\n",
    "train_accuracy = accuracy_score(y_train, train_predictions)\n",
    "train_balanced_accuracy = balanced_accuracy_score(y_train, train_predictions)\n",
    "train_roc_auc = roc_auc_score(y_train, train_predictions)\n",
    "train_f1 = f1_score(y_train, train_predictions)\n",
    "\n",
    "# Calculate evaluation metrics for the test dataset\n",
    "test_accuracy = accuracy_score(y_test, test_predictions)\n",
    "test_balanced_accuracy = balanced_accuracy_score(y_test, test_predictions)\n",
    "test_roc_auc = roc_auc_score(y_test, test_predictions)\n",
    "test_f1 = f1_score(y_test, test_predictions)\n",
    "\n",
    "# Print the evaluation metrics\n",
    "print(\"Training Metrics:\")\n",
    "print(f\"Accuracy: {train_accuracy:.2f}\")\n",
    "print(f\"Balanced Accuracy: {train_balanced_accuracy:.2f}\")\n",
    "print(f\"ROC AUC: {train_roc_auc:.2f}\")\n",
    "print(f\"F1 Score: {train_f1:.2f}\")\n",
    "print(\"\\nTest Metrics:\")\n",
    "print(f\"Accuracy: {test_accuracy:.2f}\")\n",
    "print(f\"Balanced Accuracy: {test_balanced_accuracy:.2f}\")\n",
    "print(f\"ROC AUC: {test_roc_auc:.2f}\")\n",
    "print(f\"F1 Score: {test_f1:.2f}\")"
   ]
  },
  {
   "cell_type": "code",
   "execution_count": 7,
   "metadata": {},
   "outputs": [],
   "source": [
    "import xgboost as xgb\n",
    "import pickle\n",
    "\n",
    "# Save the model to a .pkl file\n",
    "pickle.dump(xgb_classifier, open(\"model.pkl\", \"wb\"))\n"
   ]
  }
 ],
 "metadata": {
  "kernelspec": {
   "display_name": "base",
   "language": "python",
   "name": "python3"
  },
  "language_info": {
   "codemirror_mode": {
    "name": "ipython",
    "version": 3
   },
   "file_extension": ".py",
   "mimetype": "text/x-python",
   "name": "python",
   "nbconvert_exporter": "python",
   "pygments_lexer": "ipython3",
   "version": "3.11.5"
  }
 },
 "nbformat": 4,
 "nbformat_minor": 2
}
